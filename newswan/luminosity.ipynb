{
 "cells": [
  {
   "cell_type": "code",
   "execution_count": 1,
   "metadata": {},
   "outputs": [],
   "source": [
    "from __future__ import annotations\n",
    "import uproot\n",
    "import warnings\n",
    "import sys\n",
    "if not sys.warnoptions:\n",
    "    warnings.simplefilter(\"ignore\")\n",
    "    \n",
    "import plotly\n",
    "import plotly.graph_objects as go\n",
    "import plotly.express as px\n",
    "\n",
    "from plotly.subplots import make_subplots\n",
    "from typing import overload\n",
    "from abc import ABC, abstractmethod\n",
    "import numpy as np\n",
    "import sympy\n",
    "from sympy.integrals.transforms import laplace_transform\n",
    "import random\n",
    "import math\n",
    "from tqdm.auto import tqdm, trange\n",
    "from concurrent.futures import ThreadPoolExecutor\n",
    "import scipy.stats as stats\n",
    "from scipy.optimize import curve_fit\n",
    "\n",
    "\n",
    "from Class1 import parametricValue\n",
    "\n",
    "    \n",
    "from Class1 import fixedValue\n",
    "\n",
    "\n",
    "from Class1 import parametricValueNumpy\n",
    "\n",
    "\n",
    "from Class1 import parametricValueSympy\n",
    "\n",
    "\n",
    "from Class1 import binning\n",
    "\n",
    "\n",
    "from Class1 import discretepdf\n",
    "\n",
    "\n",
    "from Class1 import lumiDist\n",
    "\n",
    "\n",
    "from Class1 import lumiDistSympyLaplace\n",
    "\n",
    "\n",
    "from Class1 import lumiDistNumpy\n",
    "\n",
    "\n",
    "from Class1 import SimulationVSPu\n",
    "\n"
   ]
  },
  {
   "cell_type": "code",
   "execution_count": 2,
   "metadata": {},
   "outputs": [],
   "source": [
    "from Class2 import RunInfo\n"
   ]
  },
  {
   "cell_type": "code",
   "execution_count": 3,
   "metadata": {},
   "outputs": [],
   "source": [
    "from pathlib import Path\n",
    "\n",
    "import sys\n",
    "sys.path.append('../nTuplizer')\n",
    "from allInfo import GetAllRuns, GetAllEras \n",
    "def export_graph(g , n , pname, pdir):\n",
    "    ghtml = g.to_html()\n",
    "    Path('{0}/{1}/'.format(pdir , pname) ).mkdir(parents=True, exist_ok=True)\n",
    "    with open('{0}/{1}/{2}.html'.format(pdir , pname , n) , 'w') as f:\n",
    "        f.write(ghtml)\n",
    "def publish_res(rinfo , gchi2 , vname ,  name , publish_dir):\n",
    "    gg = rinfo.plot_lumi_distribution(subRuns=-1 , colorLumiScale=4 , density=False)\n",
    "    gg.update_layout(\n",
    "        title=\"Distribution of BX luminosity\",\n",
    "        xaxis_title='luminosity mub/25ns',\n",
    "        yaxis_title=\"probability\",\n",
    "        legend_title=\"Runs\",\n",
    "    )\n",
    "    export_graph(gg , '01-lumi_distribution' , name , publish_dir)\n",
    "    \n",
    "    gg = rinfo.plotPUDists(70)\n",
    "    gg.update_layout(\n",
    "        title=\"PU distribution for sigma=70\",\n",
    "        xaxis_title='number of PU',\n",
    "        yaxis_title=\"probability\",\n",
    "    )    \n",
    "    export_graph(gg , '02-pu_distribution' , name , publish_dir)\n",
    "    \n",
    "  \n",
    "    gg = rinfo.plotPredictions([60,65,75,80,90])\n",
    "    gg.update_layout(\n",
    "        title=\"Distribution of BX luminosity\",\n",
    "        xaxis_title='luminosity mub/25ns',\n",
    "        yaxis_title=\"probability\",\n",
    "        legend_title=\"Runs\",\n",
    "    )    \n",
    "    export_graph(gg , '04-{0}_predictions'.format(vname) , name , publish_dir)\n",
    "    \n",
    "    if rinfo.parentRun is None:\n",
    "        gg = rinfo.plotDataDist(zoom=True)\n",
    "        export_graph(gg , '03-{0}_distribution'.format(vname) , name , publish_dir)\n",
    "\n",
    "        for _xsec in [60,65,75,80,90]:\n",
    "            gg = rinfo.plotRunPredictions(_xsec)\n",
    "            export_graph(gg , '05-{0}_predictions_xsec{1}'.format(vname , _xsec) , name , publish_dir)\n",
    "            \n",
    "        export_graph(gchi2 , '06-bestfit_details'  , name , publish_dir)\n",
    "    export_graph(rinfo.postFitPlots(), '07-postFit_plots'  , name , publish_dir)\n",
    "    export_graph(rinfo.pullPlots(50 , 1.3) , '08-pullPlots' , name , publish_dir)\n",
    "    export_graph(rinfo.NadjiehPullPlots(50 , 1.3) , '08-NadjiehPullPlots' , name , publish_dir)\n",
    "    \n",
    "    if rinfo.parentRun is None:\n",
    "        export_graph(rinfo.aggregateFitRes() , '09-summary1' , name ,publish_dir)\n",
    "        export_graph(rinfo.aggregateFitRes2() , '09-summary2' , name ,publish_dir)\n",
    "        export_graph(rinfo.aggregateFitRes3() , '09-summary3' , name ,publish_dir)\n",
    "        export_graph(rinfo.aggregateFitRes4() , '09-summary4' , name ,publish_dir)\n",
    "        \n",
    "def process_and_publish(year , era , vname , vmin , vmax , vnbins , pu_max ,\n",
    "                        lumiName = 'PHYSICSDel' , lumiQ =  np.array([0,0.004,0.1,.2,0.3,.4,0.5,.6,0.7,.8,0.9,1.0]) , lnbins_per_q = 5 ,\n",
    "                        xsec = np.arange(40,100,1), nthreads = 30 , publish_dir = '/eos/user/c/cmstandi/www/PU/newres/Nima' ):\n",
    "    \n",
    "    name = '{0}{1}/{2}'.format(era, year , vname)\n",
    "    var_bins = np.linspace(vmin,vmax,vnbins+1)\n",
    "    simDist = SimulationVSPu(vname , year = year , var_bins=var_bins , pu_max=pu_max , nthreads=nthreads)\n",
    "\n",
    "    g = simDist.plot(param=1)\n",
    "    simDist.plot(param=10 , g=g)\n",
    "    simDist.plot(param=20 , g=g)\n",
    "    simDist.plot(param=30 , g=g)\n",
    "    simDist.plot(param=40 , g=g)\n",
    "    simDist.plot(param=50 , g=g)\n",
    "    simDist.plot(param=60 , g=g)\n",
    "    simDist.plot(param=70 , g=g)\n",
    "    simDist.plot(param=80 , g=g)\n",
    "    simDist.plot(param=90 , g=g)\n",
    "    g.update_layout(\n",
    "        title=\"Simulated distribution for PU\",\n",
    "        xaxis_title=vname,\n",
    "        yaxis_title=\"probability\",\n",
    "        legend_title=\"Pileup values\",\n",
    "    )    \n",
    "    export_graph(g , '00-Simulation' , name , publish_dir )\n",
    "    \n",
    "    allRuns = sorted( list(set( GetAllRuns(year , era) ) ) )\n",
    "    #allRuns = allRuns[10:15]\n",
    "    #print(allRuns)\n",
    "    print('is going to run over {0} runs'.format( len(allRuns)) )\n",
    "    \n",
    "    rinfo = RunInfo(0 , vname , var_bins , lumiName ,lumiQ , nbins_perq=lnbins_per_q , sub_runs=allRuns , \n",
    "                    nthreads=nthreads , xsecs = xsec )\n",
    "    \n",
    "    rinfo.setSimulation(simDist)\n",
    "    gchi2 = rinfo.fit()\n",
    "\n",
    "    try:\n",
    "        publish_res(rinfo , gchi2 , vname , name , publish_dir)\n",
    "        for sr in rinfo._subRuns : #+ rinfo._subRunsSameLumiBins:\n",
    "            #ext = '/SRSimilarBinning' if sr._isSecondHand else '/SRSameBinning'\n",
    "            publish_res(sr , None , vname , vname , '{0}/{1}{2}/Runs/Run{3}'.format(publish_dir , era, year , sr.run) )\n",
    "    except Exception as e:\n",
    "        print(e)\n",
    "        return rinfo\n",
    "    del rinfo\n",
    "    del simDist\n",
    "    return None"
   ]
  },
  {
   "cell_type": "code",
   "execution_count": null,
   "metadata": {},
   "outputs": [],
   "source": [
    "variables = { \"nVertices\" : ( \"nVertices\" , 90 , 0 , 90 ) ,\n",
    "              \"nGoodVertices\" : (\"nGoodVertices\", 80, 0 , 80) ,\n",
    "              \"nEles\" : (\"nEles\" , 10 , 0 , 10 ) ,\n",
    "              \"nMus\" : (\"nMus\" , 10 , 0 , 10 ),\n",
    "              \"nChargedHadrons\" : (\"nChargedHadrons\" , 120 , 0 , 1200 ),\n",
    "              \"nLostTracks\": (\"nLostTracks\" , 35 , 0 , 35 ),\n",
    "              \"nPhotons\" : (\"nPhotons\" , 120 , 0 , 600 ),\n",
    "              \"nNeutralHadrons\" : (\"nNeutralHadrons\" , 60 , 0 , 120 ),\n",
    "              \"fixedGridRhoAll\" : (\"fixedGridRhoAll\" , 40 , 0 , 40 ),\n",
    "              \"fixedGridRhoFastjetAll\" : (\"fixedGridRhoFastjetAll\" , 40 , 0 , 40 ),\n",
    "              \"fixedGridRhoFastjetAllCalo\" : (\"fixedGridRhoFastjetAllCalo\" , 25 , 0 , 25 ),\n",
    "              \"fixedGridRhoFastjetCentral\" : (\"fixedGridRhoFastjetCentral\" , 50 , 0 , 50 ),\n",
    "              \"fixedGridRhoFastjetCentralCalo\" : (\"fixedGridRhoFastjetCentralCalo\" , 20 , 0 , 20 ),\n",
    "              \"fixedGridRhoFastjetCentralChargedPileUp\" : (\"fixedGridRhoFastjetCentralChargedPileUp\" , 35 , 0 , 35 ),\n",
    "              \"fixedGridRhoFastjetCentralNeutral\" : (\"fixedGridRhoFastjetCentralNeutral\" , 12 , 0 , 12 ) }\n",
    "\n",
    "for v,vinfo in variables.items():\n",
    "    process_and_publish(2016 , 'H' , vinfo[0] , vinfo[2] , vinfo[3] , vinfo[1] , 90  )"
   ]
  },
  {
   "cell_type": "code",
   "execution_count": null,
   "metadata": {},
   "outputs": [],
   "source": [
    "#Rinfo = process_and_publish(2017 , 'D' , 'nGoodVertices' , 0 , 90 , 90 , 90  )"
   ]
  },
  {
   "cell_type": "code",
   "execution_count": null,
   "metadata": {},
   "outputs": [],
   "source": [
    "#Rinfo = process_and_publish(2017 , 'D' , 'fixedGridRhoFastjetAllCalo' , 0 , 30 , 30 , 90  )"
   ]
  },
  {
   "cell_type": "code",
   "execution_count": null,
   "metadata": {},
   "outputs": [],
   "source": [
    "#Rinfo = process_and_publish(2017 , 'D' , 'fixedGridRhoFastjetCentralNeutral' , 0 , 30 , 30 , 90  )"
   ]
  },
  {
   "cell_type": "code",
   "execution_count": null,
   "metadata": {},
   "outputs": [],
   "source": [
    "#Rinfo = process_and_publish(2017 , 'D' , 'nChargedHadrons' , 0 , 1500 , 150 , 90  )"
   ]
  },
  {
   "cell_type": "code",
   "execution_count": null,
   "metadata": {},
   "outputs": [],
   "source": [
    "#Rinfo = process_and_publish(2017 , 'D' , 'nVertices' , 0 , 90 , 90 , 90  )"
   ]
  },
  {
   "cell_type": "code",
   "execution_count": null,
   "metadata": {},
   "outputs": [],
   "source": [
    "simDist = SimulationVSPu('nVertices' , year = 2017 , var_bins= np.linspace(0,100,101) , pu_max=100 , nthreads=30)"
   ]
  },
  {
   "cell_type": "code",
   "execution_count": null,
   "metadata": {},
   "outputs": [],
   "source": [
    "aa = simDist.plotEfficiencies()"
   ]
  },
  {
   "cell_type": "code",
   "execution_count": null,
   "metadata": {},
   "outputs": [],
   "source": [
    "aa.plot()"
   ]
  },
  {
   "cell_type": "code",
   "execution_count": null,
   "metadata": {},
   "outputs": [],
   "source": [
    "import sys\n",
    "sys.path.append('../nTuplizer')\n",
    "from allInfo import GetAllRuns, GetAllEras\n",
    "allRuns = sorted( list(set( GetAllRuns(2017 , 'D') ) ) )[0]\n",
    "rinfo = RunInfo( , vname , var_bins , lumiName ,lumiQ , nbins_perq=lnbins_per_q , sub_runs=allRuns , \n",
    "                    nthreads=nthreads , xsecs = xsec )"
   ]
  },
  {
   "cell_type": "code",
   "execution_count": null,
   "metadata": {},
   "outputs": [],
   "source": [
    "allRuns"
   ]
  }
 ],
 "metadata": {
  "kernelspec": {
   "display_name": "Python 3",
   "language": "python",
   "name": "python3"
  },
  "language_info": {
   "codemirror_mode": {
    "name": "ipython",
    "version": 3
   },
   "file_extension": ".py",
   "mimetype": "text/x-python",
   "name": "python",
   "nbconvert_exporter": "python",
   "pygments_lexer": "ipython3",
   "version": "3.7.6"
  }
 },
 "nbformat": 4,
 "nbformat_minor": 5
}
