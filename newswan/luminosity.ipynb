{
 "cells": [
  {
   "cell_type": "code",
   "execution_count": 1,
   "id": "31aa1a78",
   "metadata": {},
   "outputs": [],
   "source": [
    "from __future__ import annotations\n",
    "import uproot\n",
    "import warnings\n",
    "import sys\n",
    "if not sys.warnoptions:\n",
    "    warnings.simplefilter(\"ignore\")\n",
    "    \n",
    "import plotly\n",
    "import plotly.graph_objects as go\n",
    "import plotly.express as px\n",
    "\n",
    "from plotly.subplots import make_subplots\n",
    "from typing import overload\n",
    "from abc import ABC, abstractmethod\n",
    "import numpy as np\n",
    "import sympy\n",
    "from sympy.integrals.transforms import laplace_transform\n",
    "import random\n",
    "import math\n",
    "from tqdm.auto import tqdm, trange\n",
    "from concurrent.futures import ThreadPoolExecutor\n",
    "import scipy.stats as stats\n",
    "from scipy.optimize import curve_fit\n",
    "\n",
    "\n",
    "from Class1 import parametricValue\n",
    "\n",
    "    \n",
    "from Class1 import fixedValue\n",
    "\n",
    "\n",
    "from Class1 import parametricValueNumpy\n",
    "\n",
    "\n",
    "from Class1 import parametricValueSympy\n",
    "\n",
    "\n",
    "from Class1 import binning\n",
    "\n",
    "\n",
    "from Class1 import discretepdf\n",
    "\n",
    "\n",
    "from Class1 import NLL\n",
    "\n",
    "\n",
    "from Class1 import lumiDist\n",
    "\n",
    "\n",
    "from Class1 import lumiDistSympyLaplace\n",
    "\n",
    "\n",
    "from Class1 import lumiDistNumpy\n",
    "\n",
    "\n",
    "from Class1 import SimulationVSPu\n"
   ]
  },
  {
   "cell_type": "code",
   "execution_count": 2,
   "id": "43397eda",
   "metadata": {},
   "outputs": [],
   "source": [
    "from Class1 import RunInfo\n"
   ]
  },
  {
   "cell_type": "code",
   "execution_count": 3,
   "id": "817337d8",
   "metadata": {},
   "outputs": [],
   "source": [
    "from pathlib import Path\n",
    "\n",
    "import sys\n",
    "sys.path.append('../nTuplizer')\n",
    "\n",
    "from allInfo import GetAllRuns, GetAllEras\n",
    "\n",
    "def export_graph(g , n , pname, pdir):\n",
    "    ghtml = g.to_html()\n",
    "    Path('{0}/{1}/'.format(pdir , pname) ).mkdir(parents=True, exist_ok=True)\n",
    "    with open('{0}/{1}/{2}.html'.format(pdir , pname , n) , 'w') as f:\n",
    "        f.write(ghtml)\n",
    "def publish_res(rinfo , gchi2 , vname ,  name , publish_dir):\n",
    "    lumiQ =  np.array([0,.005,0.5,1.0])\n",
    "    nbins = lumiQ.size \n",
    "    \n",
    "    \n",
    "    \n",
    "    \n",
    "    gg = rinfo.plot_lumi_distribution(subRuns=-1 , colorLumiScale=4 , density=False)\n",
    "    gg.update_layout(\n",
    "        title=\"Distribution of BX luminosity\",\n",
    "        xaxis_title='luminosity mub/25ns',\n",
    "        yaxis_title=\"probability\",\n",
    "        legend_title=\"Runs\",\n",
    "    )\n",
    "    export_graph(gg , '01-lumi_distribution' , name , publish_dir)\n",
    "    \n",
    "    \n",
    "    \n",
    "    \n",
    "    #02-pu_distribution\n",
    "    \n",
    "    gg = rinfo.plotPUDists(70)\n",
    "    export_graph(gg , '02-pu_distribution' , name , publish_dir)\n",
    "    \n",
    "    \n",
    "    \n",
    "    \n",
    "    \n",
    "    #03-{vname}_distribution:\n",
    "    \n",
    "    if rinfo.parentRun is None:\n",
    "        gg = rinfo.plotDataDist(zoom=True)\n",
    "        export_graph(gg , '03-{0}_distribution'.format(vname) , name , publish_dir) \n",
    "\n",
    "    \n",
    "    \n",
    "    \n",
    "    #04-{vname}_predictions:\n",
    "\n",
    "    gg = rinfo.plotPredictions([60,65,75,80,90])\n",
    "    export_graph(gg , '04-{0}_predictions'.format(vname) , name , publish_dir)\n",
    "    \n",
    "        \n",
    "        \n",
    "        \n",
    "        \n",
    "    for _xsec in [60,65,75,80,90]:\n",
    "        gg = rinfo.plotRunPredictions(_xsec)\n",
    "        export_graph(gg , '05-{0}_predictions_xsec{1}'.format(vname , _xsec) , name , publish_dir)\n",
    "            \n",
    "    \n",
    "    \n",
    "    export_graph(gchi2 , '06-bestfit_details'  , name , publish_dir)\n",
    "    export_graph(rinfo.postFitPlots(), '07-postFit_plots'  , name , publish_dir)\n",
    "    export_graph(rinfo.pullPlots(50 , 1.3) , '08-pullPlots' , name , publish_dir)\n",
    "    export_graph(rinfo.NadjiehPullPlots(50 , 1.3) , '08-NadjiehPullPlots' , name , publish_dir)\n",
    "    \n",
    "    \n",
    "    \n",
    "    \n",
    "    \n",
    "    if rinfo.parentRun is None:\n",
    "        export_graph(rinfo.aggregateFitRes() , '09-summary1' , name ,publish_dir)\n",
    "        export_graph(rinfo.aggregateFitRes2() , '09-summary2' , name ,publish_dir)\n",
    "        export_graph(rinfo.aggregateFitRes3() , '09-summary3' , name ,publish_dir)\n",
    "        export_graph(rinfo.aggregateFitRes4() , '09-summary4' , name ,publish_dir)\n",
    "        \n",
    "        \n",
    "   \n",
    "rinfo = None\n",
    "        \n",
    "def process_and_publish(year , era , vname , vmin , vmax , vnbins , pu_max ,\n",
    "                        lumiName = 'PHYSICSDel' , lumiQ =  np.array([0,.005, 0.1,0.5,1.0]) , lnbins_per_q = 10 ,\n",
    "                        xsec = np.arange(40,100,1), nthreads = 30 , publish_dir = \n",
    "                        '/eos/user/c/cmstandi/www/PU/newres/NimaTest4/4' ):\n",
    "    nbins = lumiQ.size -1\n",
    "  #  print(nbins)    \n",
    "\n",
    "\n",
    "    name = '{0}{1}/{2}'.format(era, year , vname)\n",
    "    var_bins = np.linspace(vmin,vmax,vnbins+1)\n",
    "    simDist = SimulationVSPu(vname , year = year , var_bins=var_bins , pu_max=pu_max , nthreads=nthreads)\n",
    "\n",
    "\n",
    "    \n",
    "    g = simDist.plot(param=1)\n",
    "    simDist.plot(param=10 , g=g)\n",
    "    simDist.plot(param=20 , g=g)\n",
    "    simDist.plot(param=30 , g=g)\n",
    "    simDist.plot(param=40 , g=g)\n",
    "    simDist.plot(param=50 , g=g)\n",
    "    simDist.plot(param=60 , g=g)\n",
    "    simDist.plot(param=70 , g=g)\n",
    "    simDist.plot(param=80 , g=g)\n",
    "    simDist.plot(param=90 , g=g)\n",
    "    g.update_layout(\n",
    "        title=\"Simulated distribution for PU\",\n",
    "        xaxis_title='Pile Up',\n",
    "        yaxis_title=\"probability\",\n",
    "        legend_title=\"param values\",\n",
    "    )    \n",
    "    export_graph(g , '00-Simulation' , name , publish_dir )\n",
    "    \n",
    "    \n",
    "    \n",
    "    \n",
    "    allRuns = sorted( list(set( GetAllRuns(year , era) ) ) )\n",
    "    allRuns = allRuns[3:4]\n",
    "    #print(allRuns)\n",
    "    print('is going to run over {0} runs'.format( len(allRuns)) )\n",
    "    \n",
    "\n",
    "    \n",
    "    rinfo = RunInfo(0 , vname , var_bins , lumiName ,lumiQ , nbins_perq=lnbins_per_q , sub_runs=allRuns , \n",
    "                    nthreads=nthreads , xsecs = xsec )\n",
    "    \n",
    "    rinfo.setSimulation(simDist)\n",
    "    gchi2 = rinfo.fit()\n",
    "    \n",
    "#     print(vname)\n",
    "#     print(var_bins)\n",
    "#     print(lumiName)\n",
    "#     print(lumiQ)\n",
    "#     print(lnbins_per_q)\n",
    "    \n",
    "    try:\n",
    "        publish_res(rinfo , gchi2 , vname , name , publish_dir)\n",
    "        for sr in rinfo._subRuns : #+ rinfo._subRunsSameLumiBins:\n",
    "            #ext = '/SRSimilarBinning' if sr._isSecondHand else '/SRSameBinning'\n",
    "            publish_res(sr , None , vname , vname , '{0}/{1}{2}/Runs/Run{3}'.format(publish_dir , era, year , sr.run) )\n",
    "    except Exception as e:\n",
    "        print(e)\n",
    "        return rinfo\n",
    "    #del rinfo\n",
    "    #del simDist\n",
    "    return rinfo\n"
   ]
  },
  {
   "cell_type": "code",
   "execution_count": 4,
   "id": "c6d65bd9",
   "metadata": {},
   "outputs": [
    {
     "data": {
      "application/vnd.jupyter.widget-view+json": {
       "model_id": "cfa32f65ae0c48a4974d228be2d9a493",
       "version_major": 2,
       "version_minor": 0
      },
      "text/plain": [
       "  0%|          | 0/92 [00:00<?, ?it/s, SIMULATION]"
      ]
     },
     "metadata": {},
     "output_type": "display_data"
    },
    {
     "name": "stdout",
     "output_type": "stream",
     "text": [
      "is going to run over 1 runs\n"
     ]
    },
    {
     "data": {
      "application/vnd.jupyter.widget-view+json": {
       "model_id": "52f19928fa5f4eb0aed8934a6423406b",
       "version_major": 2,
       "version_minor": 0
      },
      "text/plain": [
       "  0%|          | 0/13 [00:00<?, ?it/s, RUN 0]"
      ]
     },
     "metadata": {},
     "output_type": "display_data"
    },
    {
     "data": {
      "application/vnd.jupyter.widget-view+json": {
       "model_id": "545335296b664ec98b176732ac082df2",
       "version_major": 2,
       "version_minor": 0
      },
      "text/plain": [
       "  0%|          | 0/11 [00:00<?, ?it/s, RUN 317182]"
      ]
     },
     "metadata": {},
     "output_type": "display_data"
    },
    {
     "data": {
      "application/vnd.jupyter.widget-view+json": {
       "model_id": "4b7371d308a94ff9846b94469db87366",
       "version_major": 2,
       "version_minor": 0
      },
      "text/plain": [
       "  0%|          | 0/11 [00:00<?, ?it/s, RUN 317182]"
      ]
     },
     "metadata": {},
     "output_type": "display_data"
    },
    {
     "data": {
      "application/vnd.jupyter.widget-view+json": {
       "model_id": "e4b4c8a50c42450887b0c27cf31bcf59",
       "version_major": 2,
       "version_minor": 0
      },
      "text/plain": [
       "  0%|          | 0/6 [00:00<?, ?it/s, RUN 0]"
      ]
     },
     "metadata": {},
     "output_type": "display_data"
    },
    {
     "data": {
      "application/vnd.jupyter.widget-view+json": {
       "model_id": "9dd98c6698654f7fbcafca4be54cbab8",
       "version_major": 2,
       "version_minor": 0
      },
      "text/plain": [
       "  0%|          | 0/4 [00:00<?, ?it/s, RUN 317182]"
      ]
     },
     "metadata": {},
     "output_type": "display_data"
    },
    {
     "data": {
      "application/vnd.jupyter.widget-view+json": {
       "model_id": "b4f264d0c7a34ec7ab2815e5743ca6a7",
       "version_major": 2,
       "version_minor": 0
      },
      "text/plain": [
       "  0%|          | 0/4 [00:00<?, ?it/s, RUN 317182]"
      ]
     },
     "metadata": {},
     "output_type": "display_data"
    },
    {
     "name": "stdout",
     "output_type": "stream",
     "text": [
      "number of Runs = 1\n",
      "Number of Lumi Bins = 4\n"
     ]
    },
    {
     "data": {
      "application/vnd.jupyter.widget-view+json": {
       "model_id": "57f86512323b4fec8882c1be1187c6bd",
       "version_major": 2,
       "version_minor": 0
      },
      "text/plain": [
       "  0%|          | 0/3 [00:00<?, ?it/s, RUN 0]"
      ]
     },
     "metadata": {},
     "output_type": "display_data"
    },
    {
     "name": "stdout",
     "output_type": "stream",
     "text": [
      "In order to reference traces by row and column, you must first use plotly.tools.make_subplots to create the figure with a subplot grid.\n"
     ]
    }
   ],
   "source": [
    "variables = { \"nVertices\" : ( \"nVertices\" , 90 , 0 , 90 ) ,\n",
    "#               \"nGoodVertices\" : (\"nGoodVertices\", 80, 0 , 80) ,\n",
    "#               \"nEles\" : (\"nEles\" , 10 , 0 , 10 ) ,\n",
    "#               \"nMus\" : (\"nMus\" , 10 , 0 , 10 ),\n",
    "#               \"nChargedHadrons\" : (\"nChargedHadrons\" , 120 , 0 , 1200 ),\n",
    "#               \"nLostTracks\": (\"nLostTracks\" , 35 , 0 , 35 ),\n",
    "#               \"nPhotons\" : (\"nPhotons\" , 120 , 0 , 600 ),\n",
    "#               \"nNeutralHadrons\" : (\"nNeutralHadrons\" , 60 , 0 , 120 ),\n",
    "#               \"fixedGridRhoAll\" : (\"fixedGridRhoAll\" , 40 , 0 , 40 ),\n",
    "#               \"fixedGridRhoFastjetAll\" : (\"fixedGridRhoFastjetAll\" , 40 , 0 , 40 ),\n",
    "#               \"fixedGridRhoFastjetAllCalo\" : (\"fixedGridRhoFastjetAllCalo\" , 25 , 0 , 25 ),\n",
    "#               \"fixedGridRhoFastjetCentral\" : (\"fixedGridRhoFastjetCentral\" , 50 , 0 , 50 ),\n",
    "#               \"fixedGridRhoFastjetCentralCalo\" : (\"fixedGridRhoFastjetCentralCalo\" , 20 , 0 , 20 ),\n",
    "#               \"fixedGridRhoFastjetCentralChargedPileUp\" : (\"fixedGridRhoFastjetCentralChargedPileUp\" , 35 , 0 , 35 ),\n",
    "#               \"fixedGridRhoFastjetCentralNeutral\" : (\"fixedGridRhoFastjetCentralNeutral\" , 12 , 0 , 12 )\n",
    "            }\n",
    "\n",
    "vvv = {}\n",
    "for v,vinfo in variables.items():\n",
    "     vvv[v] = process_and_publish(2018 , 'B' , vinfo[0] , vinfo[2] , vinfo[3] , vinfo[1] , 90  )\n"
   ]
  },
  {
   "cell_type": "code",
   "execution_count": 5,
   "id": "9feb25a6",
   "metadata": {},
   "outputs": [],
   "source": [
    "# vvv['nVertices']._subRunsSameLumiBins[0].fitResults"
   ]
  },
  {
   "cell_type": "code",
   "execution_count": 6,
   "id": "7f6ccfae",
   "metadata": {},
   "outputs": [],
   "source": [
    "# vvv['nVertices'].fitResults[3]"
   ]
  },
  {
   "cell_type": "code",
   "execution_count": null,
   "id": "e6c4ee27",
   "metadata": {},
   "outputs": [],
   "source": []
  }
 ],
 "metadata": {
  "kernelspec": {
   "display_name": "Python 3",
   "language": "python",
   "name": "python3"
  },
  "language_info": {
   "codemirror_mode": {
    "name": "ipython",
    "version": 3
   },
   "file_extension": ".py",
   "mimetype": "text/x-python",
   "name": "python",
   "nbconvert_exporter": "python",
   "pygments_lexer": "ipython3",
   "version": "3.8.6"
  }
 },
 "nbformat": 4,
 "nbformat_minor": 5
}
