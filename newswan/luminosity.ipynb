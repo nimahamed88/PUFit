{
 "cells": [
  {
   "cell_type": "code",
   "execution_count": 5,
   "metadata": {},
   "outputs": [],
   "source": [
    "from __future__ import annotations\n",
    "import uproot\n",
    "import warnings\n",
    "import sys\n",
    "if not sys.warnoptions:\n",
    "    warnings.simplefilter(\"ignore\")\n",
    "    \n",
    "import plotly\n",
    "import plotly.graph_objects as go\n",
    "import plotly.express as px\n",
    "\n",
    "from plotly.subplots import make_subplots\n",
    "from typing import overload\n",
    "from abc import ABC, abstractmethod\n",
    "import numpy as np\n",
    "import sympy\n",
    "from sympy.integrals.transforms import laplace_transform\n",
    "import random\n",
    "import math\n",
    "from tqdm.auto import tqdm, trange\n",
    "from concurrent.futures import ThreadPoolExecutor\n",
    "import scipy.stats as stats\n",
    "from scipy.optimize import curve_fit\n",
    "\n",
    "\n",
    "from ClassFile import parametricValue\n",
    "\n",
    "    \n",
    "from ClassFile import fixedValue\n",
    "\n",
    "\n",
    "from ClassFile import parametricValueNumpy\n",
    "\n",
    "\n",
    "from ClassFile import parametricValueSympy\n",
    "\n",
    "\n",
    "from ClassFile import binning\n",
    "\n",
    "\n",
    "from ClassFile import discretepdf\n",
    "\n",
    "\n",
    "from ClassFile import lumiDist\n",
    "\n",
    "\n",
    "from ClassFile import lumiDistSympyLaplace\n",
    "\n",
    "\n",
    "from ClassFile import lumiDistNumpy\n",
    "\n",
    "\n",
    "from ClassFile import SimulationVSPu\n",
    "\n"
   ]
  },
  {
   "cell_type": "code",
   "execution_count": 2,
   "metadata": {},
   "outputs": [],
   "source": [
    "class RunInfo :\n",
    "    bx_l_r = 1e-3 * 1e6 / (2**18)\n",
    "    progress_bar_des_l = 30\n",
    "    allMarkerStyles = list(range(100,145)) + list(range(300,325)) + list(range(45)) + list(range(200,225)) + [236,336]\n",
    "    colorscale = \"Rainbow\" #https://plotly.com/python/builtin-colorscales/\n",
    "    \n",
    "    @staticmethod\n",
    "    def colorList() -> list:\n",
    "        colors = []\n",
    "        all___ = px.colors.qualitative.__dict__\n",
    "        for a in all___:\n",
    "            c = all___[a]\n",
    "            if type(c) is list:\n",
    "                colors += c \n",
    "        return colors\n",
    "\n",
    "    \n",
    "    @staticmethod\n",
    "    def addnewrun(args):\n",
    "        try:\n",
    "            newrun = RunInfo(**args[1])\n",
    "            newrun.parentRun = args[0]\n",
    "            args[0]._subRuns.append(newrun)\n",
    "        except Exception as e:\n",
    "            print(e)\n",
    "        args[0]._statusBar.update(1)\n",
    "\n",
    "    @staticmethod\n",
    "    def addnewrun_samelumibins(args):\n",
    "        try:\n",
    "            newrun = RunInfo(**args[1])\n",
    "            newrun.parentRun = args[0]\n",
    "            args[0]._subRunsSameLumiBins.append(newrun)\n",
    "        except Exception as e:\n",
    "            print('aa',e)\n",
    "            raise e\n",
    "        args[0]._statusBar.update(1)\n",
    "\n",
    "        \n",
    "    @staticmethod\n",
    "    def setSim(args):\n",
    "        try:\n",
    "            args[0].setSimulation(args[1] , False)\n",
    "        except Exception as e:\n",
    "            print(e)\n",
    "        args[2]._statusBar.update(1)\n",
    "        \n",
    "    @staticmethod\n",
    "    def doFit(args):\n",
    "        try:\n",
    "            args[0].fit(False , args[1])\n",
    "        except Exception as e:\n",
    "            print(e)\n",
    "        args[2]._statusBar.update(1)\n",
    "        \n",
    "    def __init__(self , run : int = 0, vname : str = \"\" , vbins : list = [] , lumi_var : str = \"\" , lumi_quantiles : list = [] , nbins_perq : int = 3,\n",
    "                 lumi_hists = [], sub_runs : list = [] ,\n",
    "                 max_pu : int = 100 , xsecs : np.ndarray = np.arange(60,100,0.1) , nthreads = 10 , _vals_ : np.ndarray = None):\n",
    "\n",
    "\n",
    "        if len(lumi_quantiles) == 0:\n",
    "            lumi_quantiles = [0]*( len(lumi_hists)+1 )\n",
    "            if len(lumi_quantiles) == 1:\n",
    "                raise ValueError(\"you need to at least speficy two quantiles for lumi/or pass lumi_hists\")\n",
    "\n",
    "        self._nthreads = nthreads\n",
    "        self._vname = vname\n",
    "        self._lumi_var = lumi_var\n",
    "        self._run = run\n",
    "        \n",
    "           \n",
    "        self._statusBar = tqdm(total=2*len(lumi_quantiles)+1+2*len(sub_runs)  , postfix=\"RUN {0}\".format(self.run))\n",
    "        self._subRuns = []\n",
    "        if run == 0:\n",
    "            argss = [(self , dict(run=r , vname=vname , vbins=vbins , lumi_var=lumi_var , \n",
    "                                                       lumi_quantiles=lumi_quantiles , nbins_perq=nbins_perq , lumi_hists=lumi_hists , sub_runs=[] , \n",
    "                                                       max_pu=max_pu , xsecs=xsecs )) for r in sub_runs]\n",
    "            if nthreads > 0:\n",
    "                with ThreadPoolExecutor(nthreads) as p:\n",
    "                    p.map( RunInfo.addnewrun , argss )\n",
    "            else:\n",
    "                for a in argss:\n",
    "                    RunInfo.addnewrun(a)\n",
    "        \n",
    "        self.xsecs = xsecs\n",
    "        self.lumi_hists = []\n",
    "        self.data_hists = []\n",
    "        \n",
    "        self._statusBar.set_description('loading'.ljust(RunInfo.progress_bar_des_l))\n",
    "        if _vals_ is None:\n",
    "            self._isSecondHand = False\n",
    "        else:\n",
    "            self._vals = _vals_\n",
    "            self.nTotal = len( self._vals[self.lumi_var] )\n",
    "            self._isSecondHand = True\n",
    "            #print(self.vals)\n",
    "        lumi_vals = self.vals[lumi_var]\n",
    "        varVals = self.vals[vname]\n",
    "        self._statusBar.update(1)\n",
    "\n",
    "        \n",
    "        self._statusBar.set_description('estimating quantiles'.ljust(RunInfo.progress_bar_des_l))\n",
    "        if len(lumi_vals)==0:\n",
    "            print(type(lumi_vals) , self.run)\n",
    "            print(lumi_vals.shape)\n",
    "            raise ValueError('file {0}'.format(self.filename))\n",
    "        if sum(lumi_quantiles) == 0:\n",
    "            lumi_limits = [ _ll.min for _ll in lumi_hists ] + [lumi_hists[-1].max]\n",
    "        else:\n",
    "            lumi_limits = np.quantile( lumi_vals , lumi_quantiles )\n",
    "        self._statusBar.update(1)\n",
    "     \n",
    "        self._covmatrix = []\n",
    "        for q_i in range(len(lumi_quantiles)-1):\n",
    "            self._statusBar.set_description('q{0} pu dist'.format(q_i).ljust(RunInfo.progress_bar_des_l))\n",
    "\n",
    "            h = np.histogram(lumi_vals , bins=nbins_perq , range=(lumi_limits[q_i],lumi_limits[q_i+1]) , density=True )\n",
    "\n",
    "            lumiBin = lumiDistNumpy('run{0}q{1}'.format(run,q_i) , \n",
    "                          {(h[1][i],h[1][i+1]):float(h[0][i]) for i in range(nbins_perq)} ,\n",
    "                          max_pu , self.xsecs , silent=True)\n",
    "            self.lumi_hists.append(lumiBin)\n",
    "            self._statusBar.update(1)\n",
    "\n",
    "            self._statusBar.set_description('q{0}, {1} dist'.format( q_i , vname).ljust(RunInfo.progress_bar_des_l))\n",
    "            seletedOnes = (lumi_vals < lumiBin.max) & (lumi_vals > lumiBin.min)\n",
    "            h2 = np.histogram(varVals[seletedOnes] , bins=vbins)\n",
    "            self.data_hists.append(discretepdf('h{0}_r{1}_q{2}'.format(vname,run,q_i),\n",
    "                                               {(h2[1][i],h2[1][i+1]):float(h2[0][i]) for i in range(len(h2[0]))} ,\n",
    "                                               unity=False ) )\n",
    "            \n",
    "            self._statusBar.set_description('q{0}, {1} cov'.format( q_i , vname).ljust(RunInfo.progress_bar_des_l))\n",
    "            try:\n",
    "                selMatrix = np.vstack([lumi_vals[seletedOnes] , varVals[seletedOnes] ])\n",
    "                self._covmatrix.append( np.cov(selMatrix) )\n",
    "            except Exception as e:\n",
    "                print(e)\n",
    "            self._statusBar.update(1)\n",
    "\n",
    "        self._statusBar.set_description('lumi profile'.ljust(RunInfo.progress_bar_des_l))\n",
    "        _ld_ = np.histogram(lumi_vals , bins=self.all_lumi_bins , density=True)\n",
    "        self.lumi_distribution = discretepdf('run{0}_lumidist'.format(run) , \n",
    "                                             {(_ld_[1][i],_ld_[1][i+1]):float(_ld_[0][i]) for i in range(len(_ld_[0]))})\n",
    "        try:\n",
    "            self._covmatrix.append( np.cov(np.vstack([self.vals[self.lumi_var] , self.vals[self.vname]])))\n",
    "        except Exception as e:\n",
    "            print(run , e)\n",
    "        self._statusBar.update(1)\n",
    "        \n",
    "        self._statusBar.set_description('SubRuns,FinalLumiProfile')\n",
    "        self._subRunsSameLumiBins = []\n",
    "        if run == 0:\n",
    "            argss = [(self , dict(run=r.run , vname=vname , vbins=vbins , lumi_var=lumi_var , \n",
    "                                                       lumi_quantiles=[] , nbins_perq=nbins_perq , lumi_hists=self.lumi_hists , sub_runs=[] , \n",
    "                                                       max_pu=max_pu , xsecs=xsecs , _vals_=r.vals )) for r in self._subRuns]\n",
    "            if nthreads > 0:\n",
    "                with ThreadPoolExecutor(nthreads) as p:\n",
    "                    p.map( RunInfo.addnewrun_samelumibins , argss )\n",
    "            else:\n",
    "                for a in argss:\n",
    "                    RunInfo.addnewrun_samelumibins(a)\n",
    "            \n",
    "        \n",
    "        self._statusBar.set_description('Run {0} Done'.format(self.run).ljust(RunInfo.progress_bar_des_l))\n",
    "        self._statusBar.refresh()\n",
    "        del self._statusBar\n",
    "        if self.run == 0:\n",
    "            del self.vals\n",
    "\n",
    "    def __del__(self):\n",
    "        for r in self._subRuns + self._subRunsSameLumiBins:\n",
    "            del r\n",
    "            \n",
    "        del self.lumi_distribution\n",
    "        for dh in self.data_hists:\n",
    "            del dh\n",
    "        for lh in self.lumi_hists:\n",
    "            del lh\n",
    "       \n",
    "    @property\n",
    "    def sigmaLumi(self) -> list:\n",
    "        return [math.sqrt(self._covmatrix[i][0][0]) for i in range(self.nLumiBins+1) ]\n",
    "    \n",
    "    @property\n",
    "    def sigmaVar(self) -> list :\n",
    "        return [math.sqrt(self._covmatrix[i][1][1]) for i in range(self.nLumiBins+1) ]\n",
    "    @property\n",
    "    def correlation(self) -> list :\n",
    "        return [self._covmatrix[i][0][1]/(self.sigmaLumi[i]*self.sigmaVar[i]) for i in range(self.nLumiBins+1) ]\n",
    "    \n",
    "    @property\n",
    "    def nTotal(self) -> int :\n",
    "        if hasattr(self , '_nTotalEvents'):\n",
    "            return self._nTotalEvents\n",
    "        elif len(self._subRuns) > 0:\n",
    "            return sum([sr.nTotal for sr in self._subRuns])\n",
    "        else:\n",
    "            return -1\n",
    "        \n",
    "    @nTotal.setter\n",
    "    def nTotal(self , v : int):\n",
    "        self._nTotalEvents = v\n",
    "    \n",
    "    @property\n",
    "    def parentRun(self) -> RunInfo:\n",
    "        if hasattr(self , '_parentRun'):\n",
    "            return self._parentRun\n",
    "        else:\n",
    "            return None\n",
    "    @parentRun.setter\n",
    "    def parentRun(self , p) :\n",
    "        self._parentRun = p\n",
    "        \n",
    "    @property\n",
    "    def lumiMinMax(self):\n",
    "        if self.parentRun :\n",
    "            return self.parentRun.lumiMinMax\n",
    "        else:\n",
    "            lumiBins = self.all_lumi_bins\n",
    "            return [lumiBins[0] , lumiBins[-1]]\n",
    "        \n",
    "    @property\n",
    "    def varMeanMinMax(self) :\n",
    "        if self.parentRun:\n",
    "            return self.parentRun.varMeanMinMax\n",
    "        else:\n",
    "            if not hasattr(self , \"_varMeanMinMax\"):\n",
    "                allMeans = []\n",
    "                for sr in self._subRuns + [self]:\n",
    "                    for i in range(len(self.data_hists)):\n",
    "                        _theMean = sr.data_hists[i].mean()\n",
    "                        if not math.isnan(_theMean):\n",
    "                            allMeans.append(_theMean)\n",
    "                self._varMeanMinMax = (min(allMeans) , max(allMeans))\n",
    "            return self._varMeanMinMax\n",
    "        \n",
    "    \n",
    "    @property\n",
    "    def runColor(self) -> str:\n",
    "        return RunInfo.colorList()[self.idInList % len(RunInfo.colorList())] \n",
    "        \n",
    "    @property\n",
    "    def correlationColor(self) -> str:\n",
    "        colors = []\n",
    "        all___ = px.colors.qualitative.__dict__\n",
    "        for a in all___:\n",
    "            c = all___[a]\n",
    "            if type(c) is list:\n",
    "                colors += c \n",
    "        correlation = int( (1.0+self.correlation[-1])*100 )\n",
    "        return colors[correlation % len(colors)]\n",
    "        \n",
    "    def plotMarkerStyle(self , colorLumiScale : int = 0) -> dict :\n",
    "        ret = dict(symbol=RunInfo.allMarkerStyles[self.idInList % len(RunInfo.allMarkerStyles) ],\n",
    "                    line_width=2,\n",
    "                    size=10)\n",
    "        \n",
    "        ret[\"colorscale\"] = RunInfo.colorscale\n",
    "        if colorLumiScale == 1:\n",
    "            ret[\"cmin\"] = self.lumiMinMax[0]\n",
    "            ret[\"cmax\"] = self.lumiMinMax[1]\n",
    "            ret['color'] = self.lumi_distribution.binRepresentatives\n",
    "            ret['colorbar'] = dict(title=\"luminosity\")\n",
    "        elif colorLumiScale == 2:\n",
    "            ret[\"cmin\"] = self.varMeanMinMax[0]\n",
    "            ret[\"cmax\"] = self.varMeanMinMax[1]\n",
    "            ret['colorbar'] = dict(title=\"average {0}\".format(self.vname))\n",
    "            ret['color'] = []\n",
    "            for v,l in zip(self.data_hists , self.lumi_hists):\n",
    "                _m = v.mean()\n",
    "                if math.isnan(_m):\n",
    "                    _m = ret[\"cmin\"]-1\n",
    "                ret['color'].extend([_m]*l.nbins)\n",
    "            #if len(ret['color']) != self.nLumiBins:\n",
    "            #print(ret[\"cmin\"] , ret[\"cmax\"] , ret['color'])\n",
    "        elif colorLumiScale == 3:\n",
    "            ret[\"cmin\"]  , ret[\"cmax\"] = 0,1\n",
    "            _nt = self.nTotal\n",
    "            ret['color'] = np.repeat( [v.integral()/_nt for v in self.data_hists] , [l.nbins for l in self.lumi_hists]+[0])\n",
    "            ret['colorbar'] = dict(title=\"nEvents\")\n",
    "            #print(ret['color'])\n",
    "        elif colorLumiScale == 4:\n",
    "            ret[\"cmin\"]  , ret[\"cmax\"] = -1,1\n",
    "            ret['color'] = np.repeat(self.correlation , [l.nbins for l in self.lumi_hists]+[0])\n",
    "            ret['colorbar'] = dict(title=\"correlation\")\n",
    "        else:\n",
    "            ret['color'] = self.runColor\n",
    "        \n",
    "        return ret\n",
    "    \n",
    "    @property\n",
    "    def idInList(self) -> int:\n",
    "        if self.parentRun :\n",
    "            return 1+self.parentRun.subRunNumbers.index( self.run ) #+ 100*int(self._isSecondHand)\n",
    "        else:\n",
    "            return 0\n",
    "\n",
    "    @property\n",
    "    def subRunNumbers(self) -> list :\n",
    "        return sorted([r.run for r in self._subRuns])\n",
    "    \n",
    "    @property\n",
    "    def nthreads(self) -> int:\n",
    "        return self._nthreads\n",
    "    \n",
    "    @property\n",
    "    def lumi_var(self) -> str:\n",
    "        return self._lumi_var\n",
    "    @property\n",
    "    def vname(self) -> str:\n",
    "        return self._vname\n",
    "    @property\n",
    "    def vals(self):\n",
    "        if not hasattr(self , '_vals'):\n",
    "            if self.run == 0:\n",
    "                self._vals = {a:np.array([]) for a in [self.lumi_var,self.vname] }\n",
    "                for sr in self._subRuns:\n",
    "                    for a in sr.vals.keys():\n",
    "                        self._vals[a] = np.append( self._vals[a],sr.vals[a] )\n",
    "                self.nTotal = len( self._vals[self.lumi_var] )\n",
    "            else:\n",
    "                with uproot.open(self.filename) as f:\n",
    "                    tree = f['Events']\n",
    "                    self._vals = tree.arrays([self.lumi_var,self.vname] , library='np')\n",
    "                    self._vals[self.lumi_var] *= RunInfo.bx_l_r\n",
    "                    self.nTotal = len( self._vals[self.lumi_var] )\n",
    "        #print(self.nTotal, self.run)\n",
    "        return self._vals\n",
    "    \n",
    "    @vals.deleter\n",
    "    def vals(self):\n",
    "        if hasattr(self , \"_vals\"):\n",
    "            del self._vals\n",
    "        for sr in self._subRuns + self._subRunsSameLumiBins:\n",
    "            del sr.vals\n",
    "            \n",
    "    @property\n",
    "    def run(self) -> int:\n",
    "        return self._run\n",
    "    \n",
    "    @property\n",
    "    def all_lumi_bins(self) -> list:\n",
    "        all_lumi_bins = [0.0]\n",
    "        for lumi_bin in self.lumi_hists:\n",
    "            all_lumi_bins.pop()\n",
    "            all_lumi_bins += lumi_bin.bins_array\n",
    "        return sorted(all_lumi_bins)\n",
    "    \n",
    "    def plot_lumi_distribution(self , g=None , subRuns : int = 0 , colorLumiScale : int = 0 , density = True):\n",
    "        \n",
    "        linecolor = self.correlationColor if colorLumiScale in [4] else self.runColor\n",
    "        g = self.lumi_distribution.plot(g=g, scatterOpts=dict(mode='markers',\n",
    "                                             marker=self.plotMarkerStyle(colorLumiScale),\n",
    "                                                             line=dict(color=linecolor)) , density=density )\n",
    "        if subRuns:\n",
    "            g.update_layout(legend_xanchor=\"left\" , legend_orientation=\"h\", showlegend=True)\n",
    "            for sr in self._subRuns if subRuns > 0 else self._subRunsSameLumiBins:\n",
    "                g = sr.plot_lumi_distribution(g, subRuns , colorLumiScale , density=density )\n",
    "                \n",
    "        return g\n",
    "        \n",
    "    def setSimulation(self, sim : SimulationVSPu , sub_runs : bool = True ) :\n",
    "        njobs = 2*len(self._subRuns)+len(self.lumi_hists) if sub_runs else len(self.lumi_hists)\n",
    "        colour = 'red' if sub_runs else 'yellow'\n",
    "        if not hasattr(self , '_statusBar'):\n",
    "            self._statusBar = tqdm(total=njobs  , postfix=\"RUN {0}\".format(self.run) , colour=colour)\n",
    "        if sub_runs:\n",
    "            with ThreadPoolExecutor(self.nthreads) as p:\n",
    "                p.map( RunInfo.setSim , [(r , sim , self) for r in self._subRuns+[self]+self._subRunsSameLumiBins ] )\n",
    "        else:\n",
    "            self.predictions = []\n",
    "            for lumi_bin in self.lumi_hists:\n",
    "                self.predictions.append(sim.predict(lumi_bin))\n",
    "                self._statusBar.update(1)\n",
    "\n",
    "    def plotPUDists(self , xsec:float , g=None) :\n",
    "        for lh in self.lumi_hists:\n",
    "            if g is None:\n",
    "                g = lh.PUDist.plot(param=xsec)\n",
    "            else:\n",
    "                lh.PUDist.plot(param=xsec , g=g)\n",
    "                \n",
    "        return g\n",
    "    \n",
    "    def plotDataDist(self , g=None , zoom = True):\n",
    "        if self.parentRun is None:\n",
    "            g = make_subplots(rows=(self.nLumiBins//2) + (self.nLumiBins%2), cols=2)\n",
    "        row = 1\n",
    "        col = 1\n",
    "        for dh in self.data_hists:\n",
    "            theName = \"Run {0}\".format(self.run) if row*col == 1 else \"Run {0}{1}\".format(self.run, row*2+col-3)\n",
    "            dh.plot(g=g , barmode=not self.parentRun is None , traceOpts={'row':row, 'col':col} , trimZeros=zoom,\n",
    "                    scatterOpts={'marker_color':self.runColor , 'name':theName , 'legendgroup':\"Run {0}\".format(self.run) , 'showlegend':row*col==1})\n",
    "            col += 1\n",
    "            if col == 3:\n",
    "                col = 1\n",
    "                row += 1\n",
    "        for sr in self._subRunsSameLumiBins:\n",
    "            sr.plotDataDist(g)\n",
    "        g.update_layout(barmode='stack')\n",
    "        return g\n",
    "    \n",
    "    def plotPredictions(self , xsecs:list ):\n",
    "        fig = make_subplots(rows=(self.nLumiBins//2) + (self.nLumiBins%2), cols=2)\n",
    "        row = 1\n",
    "        col = 1\n",
    "        for pred in self.predictions:\n",
    "            for xsec in xsecs:\n",
    "                theName = \"XSec={0}\".format(xsec) if row*col == 1 else \"XSec{0}{1}\".format(xsec, row*2+col-3)\n",
    "                pred.plot(param=xsec , g=fig , traceOpts={'row':row, 'col':col},\n",
    "                         scatterOpts={'line_color':RunInfo.colorList()[int(xsec*10)%len(RunInfo.colorList())] , 'name':theName , 'legendgroup':\"XSection={0}\".format(xsec) , 'showlegend':row*col==1})\n",
    "            col += 1\n",
    "            if col == 3:\n",
    "                col = 1\n",
    "                row += 1\n",
    "        return fig\n",
    "\n",
    "    def plotRunPredictions(self , xsec:float , zoom : bool= True , fig = None):\n",
    "        if self.parentRun is None:\n",
    "            fig = make_subplots(rows=(self.nLumiBins//2) + (self.nLumiBins%2), cols=2)\n",
    "        row = 1\n",
    "        col = 1\n",
    "        for pred in self.predictions:\n",
    "            theName = \"Run {0}\".format(self.run) if row*col == 1 else \"Run{0}{1}\".format(self.run, row*2+col-3)\n",
    "            pred.plot(param=xsec , g=fig , traceOpts={'row':row, 'col':col}, barmode=not self.parentRun is None , trimZeros=zoom,\n",
    "                      scatterOpts={'marker_color':self.runColor , 'name':theName ,\n",
    "                                   'legendgroup':\"Run {0}\".format(self.run) , 'showlegend':row*col==1}, norm=self.nTotal )\n",
    "            col += 1\n",
    "            if col == 3:\n",
    "                col = 1\n",
    "                row += 1\n",
    "        for sr in self._subRunsSameLumiBins:\n",
    "            sr.plotRunPredictions(xsec , zoom , fig)\n",
    "        fig.update_layout(barmode='stack')\n",
    "        return fig\n",
    "\n",
    "    \n",
    "    def fit(self , sub_runs = True , g = None ):\n",
    "        if g is None:\n",
    "            g = make_subplots(rows=self.nLumiBins+3 , cols = 3 ,\n",
    "                              specs=[ [{'colspan':3}, None , None] , [{'colspan':3}, None , None] , [{'colspan':3}, None , None] ] + self.nLumiBins*[ [{},{},{}] ] )\n",
    "            g.update_layout(height=(self.nLumiBins+3)*400, width=1200, title_text=\"chi2 values\")\n",
    "        if sub_runs:\n",
    "            njobs = 2*len(self._subRuns)+1\n",
    "            colour = 'red' if sub_runs else 'yellow'\n",
    "\n",
    "            self._statusBar = tqdm(total=njobs  , postfix=\"RUN {0}\".format(self.run) , colour=colour)\n",
    "            with ThreadPoolExecutor(self.nthreads) as p:\n",
    "                p.map( RunInfo.doFit , [(r , g , self) for r in self._subRuns+[self]+self._subRunsSameLumiBins ] )\n",
    "            self._statusBar.refresh()\n",
    "        else:\n",
    "            self.fitResults = []\n",
    "            finalres = {'x':[] , 'y':[] , 'ex':[] , 'ey':[]}\n",
    "            theName_ = \"Run {0}\".format(self.run)\n",
    "\n",
    "            run_fig_index = 1 + (1 if self._isSecondHand else 0) + (2 if self.parentRun is None else 0)\n",
    "            for i in range(self.nLumiBins):\n",
    "                theName = theName_.format( \"\" if i == 0 else i+1)\n",
    "                pred = self.predictions[i]\n",
    "                data = self.data_hists[i]\n",
    "                chi2 = pred.chi2(data , self.xsecs)\n",
    "                self.fitResults.append(chi2)\n",
    "                chi2.plot(g=g , traceOpts={'row':i+1+3, 'col':run_fig_index} ,\n",
    "                          scatterOpts={'marker_color':self.runColor , 'name':theName ,\n",
    "                                       'legendgroup':\"Run {0}\".format(self.run) , 'showlegend':i==1 and run_fig_index>1})\n",
    "\n",
    "                finalres['x'].append( (self.lumi_hists[i].max+self.lumi_hists[i].min)/2 )\n",
    "                finalres['ex'].append( (self.lumi_hists[i].max-self.lumi_hists[i].min)/2 )\n",
    "\n",
    "                finalres['y'].append( chi2.bestFit )\n",
    "                finalres['ey'].append( chi2.bestFitError )\n",
    "\n",
    "            additiona_trace_opt = {}\n",
    "            if any([ey>10 for ey in finalres['ey'] ]):\n",
    "                additiona_trace_opt['visible']='legendonly'\n",
    "            g.add_trace(go.Scatter(x=finalres[\"x\"], y=finalres[\"y\"],\n",
    "                        error_x=dict(type='data',array=finalres[\"ex\"],visible=self.parentRun is None),\n",
    "                        error_y=dict(type='data',array=finalres[\"ey\"],visible=True), mode='markers',\n",
    "                                      marker_color=self.runColor , name=theName_.format(\"BestFits\"),\n",
    "                                      legendgroup=\"Run {0}\".format(self.run) , showlegend=False , **additiona_trace_opt), row=run_fig_index, col=1 )\n",
    "\n",
    "        return g\n",
    "    \n",
    "    def postFitPlots(self):\n",
    "        fig = make_subplots(rows=(self.nLumiBins//2) + (self.nLumiBins%2), cols=2)\n",
    "        row = 1\n",
    "        col = 1\n",
    "        for i in range(self.nLumiBins):\n",
    "            dh = self.data_hists[i]\n",
    "            dh.plot(g=fig , traceOpts={'row':row, 'col':col} , \n",
    "                    scatterOpts=dict(mode='markers',marker=dict(color='black',size=6)))\n",
    "            \n",
    "            self.predictions[i].plot(param=self.fitResults[i].bestFit , g=fig ,\n",
    "                                           traceOpts={'row':row, 'col':col} , norm=dh.integral() ,\n",
    "                                           scatterOpts=dict(line=dict(color='red')))\n",
    "            col += 1\n",
    "            if col == 3:\n",
    "                col = 1\n",
    "                row += 1\n",
    "        fig.update_layout(showlegend=False)\n",
    "        return fig\n",
    "\n",
    "    def pullPlots(self , maxtoshow=25 , smoothing=1.3):\n",
    "        fig = go.Figure() #make_subplots(rows=(self.nLumiBins//2) + (self.nLumiBins%2), cols=2)\n",
    "        \n",
    "        row = 1\n",
    "        col = 1\n",
    "        for i in range(self.nLumiBins):\n",
    "            dh = self.data_hists[i]\n",
    "            norm=int( dh.integral() )\n",
    "            x = []\n",
    "            y = []\n",
    "            for b in dh.binRepresentatives:\n",
    "                x.append(b)\n",
    "                d = float( dh.p(b) )\n",
    "                pred = norm*float( self.predictions[i].p(param=self.fitResults[i].bestFit , val=b) )\n",
    "                if pred == 0:\n",
    "                    yval = 0\n",
    "                else:\n",
    "                    yval = (d-pred)/math.sqrt(pred)\n",
    "                y.append(min(yval , maxtoshow) )\n",
    "            fig.add_trace(go.Scatter(x=x , y=y , mode='lines' , line=dict(shape='spline', smoothing=smoothing)) ) #, row=row, col=col )\n",
    "            col += 1\n",
    "            if col == 3:\n",
    "                col = 1\n",
    "                row += 1\n",
    "        #fig.update_layout(showlegend=False)\n",
    "        return fig\n",
    "\n",
    "    def NadjiehPullPlots(self , maxtoshow=25 , smoothing=1.3):\n",
    "        fig = go.Figure() #make_subplots(rows=(self.nLumiBins//2) + (self.nLumiBins%2), cols=2)\n",
    "\n",
    "        row = 1\n",
    "        col = 1\n",
    "        for i in range(self.nLumiBins):\n",
    "            dh = self.data_hists[i]\n",
    "            norm=int( dh.integral() )\n",
    "            x = []\n",
    "            y = []\n",
    "            for b in dh.binRepresentatives:\n",
    "                x.append(b)\n",
    "                d = float( dh.p(b) )\n",
    "\n",
    "                pdf_cent = float( self.predictions[i].p(param=self.fitResults[i].bestFit , val=b) )\n",
    "                pdf_plus = float( self.predictions[i].p(param=self.fitResults[i].bestFit+self.fitResults[i].bestFitError , val=b) ) - pdf_cent\n",
    "                pdf_minus = float( self.predictions[i].p(param=self.fitResults[i].bestFit-self.fitResults[i].bestFitError , val=b) )- pdf_cent\n",
    "                pred = norm*pdf_cent\n",
    "                pred_err = (abs(pdf_plus)+abs(pdf_minus))/2\n",
    "                if pred == 0:\n",
    "                    yval = 0\n",
    "                else:\n",
    "                    hamederr = math.sqrt(pred)\n",
    "                    fEsq = pred * pdf_cent\n",
    "                    sEsq = norm * norm * pred_err * pred_err\n",
    "                    if fEsq+sEsq != 0:\n",
    "                        yval = (d-pred)/math.sqrt(fEsq+sEsq) \n",
    "                    else:\n",
    "                        yval = 0\n",
    "\n",
    "                y.append(min(yval , maxtoshow) )\n",
    "            fig.add_trace(go.Scatter(x=x , y=y , mode='lines' , line=dict(shape='spline', smoothing=smoothing)) ) #, row=row, col=col )\n",
    "            col += 1\n",
    "            if col == 3:\n",
    "                col = 1\n",
    "                row += 1\n",
    "        #fig.update_layout(showlegend=False)\n",
    "        return fig\n",
    " \n",
    "\n",
    "    @property\n",
    "    def nVarBins(self):\n",
    "        return self.data_hists[0].nbins\n",
    "\n",
    "    def chiSquared(self , lumibin):\n",
    "        dh = self.data_hists[lumibin]\n",
    "        norm=int( dh.integral() )\n",
    "        ret = 0\n",
    "        for b in dh.binRepresentatives:\n",
    "            d = float( dh.p(b) )\n",
    "            pred = norm*float( self.predictions[lumibin].p(param=self.fitResults[lumibin].bestFit , val=b) )\n",
    "            ret += (d-pred)**2/pred\n",
    "        return ret\n",
    "\n",
    "    def aggregateFitRes2(self):\n",
    "        _x_y = {}\n",
    "        _x_yerr = {}\n",
    "        _x_w = {}\n",
    "        _x_corr = {}\n",
    "        _x_chi2 = {}\n",
    "        for sr in self._subRuns:\n",
    "\n",
    "            for i in range(self.nLumiBins):\n",
    "                lval = float(sr.lumi_hists[i].max+sr.lumi_hists[i].min)/2 \n",
    "                #print(lval)\n",
    "                chi2 = sr.fitResults[i]\n",
    "                if chi2.atBorder:\n",
    "                    continue\n",
    "                y = chi2.bestFit\n",
    "                y_err = chi2.bestFitError\n",
    "                chi2value = 1 - stats.chi2.cdf( sr.chiSquared(i) , self.nVarBins )\n",
    "                #if chi2value>10000:\n",
    "                #    chi2value=10000\n",
    "                if lval not in _x_y:\n",
    "                    _x_y[lval] = [y]\n",
    "                    _x_yerr[lval] = [y_err]\n",
    "                    _x_w[lval] = [1.0/(y_err**2)]\n",
    "                    _x_corr[lval] = [sr.correlation[i]]\n",
    "                    _x_chi2[lval] = [chi2value]\n",
    "                else:\n",
    "                    _x_y[lval].append(y)\n",
    "                    _x_yerr[lval].append( y_err )\n",
    "                    _x_w[lval].append(1.0/(y_err**2))\n",
    "                    _x_corr[lval].append(sr.correlation[i])\n",
    "                    _x_chi2[lval].append(chi2value)\n",
    "\n",
    "        _x = sorted(_x_y.keys())\n",
    "        #print(_x)\n",
    "        _y = []\n",
    "        _yerr = []\n",
    "        color = []\n",
    "        for x in _x:\n",
    "            if len(_x_y[x])>1:\n",
    "                print(x)\n",
    "            _y.append(np.average(np.array(_x_y[x]) , weights=np.array(_x_w[x])))\n",
    "            #color.append(np.average(np.array(_x_corr[x]), weights=np.array(_x_w[x])))\n",
    "            color.append(np.average(np.array(_x_chi2[x]), weights=np.array(_x_w[x])))\n",
    "            _yerr.append(math.sqrt( np.average( (np.array(_x_y[x])-_y[-1])**2 , weights=np.array(_x_w[x]))) )\n",
    "        g = go.Figure() \n",
    "        g.add_trace(go.Scatter(x=_x, y=_y,\n",
    "                        error_y=dict(type='data',array=_yerr,visible=True), mode='markers',\n",
    "                                      marker_color=color , marker_colorscale=RunInfo.colorscale , marker_colorbar = dict(title=\"correlation\") ) )\n",
    "        return g\n",
    "\n",
    "    def aggregateFitRes(self):\n",
    "        _x = []\n",
    "        _y = []\n",
    "        _yerr = []\n",
    "        for i in range(self.nLumiBins):\n",
    "            _x.append( (self.lumi_hists[i].max+self.lumi_hists[i].min)/2 )\n",
    "            vs = []\n",
    "            ws = []\n",
    "            for sr in self._subRunsSameLumiBins:\n",
    "                chi2 = sr.fitResults[i]\n",
    "                vs.append( chi2.bestFit )\n",
    "                ws.append( 1.0/(chi2.bestFitError**2) )\n",
    "            vnp , wnp = np.array(vs) , np.array(ws)\n",
    "            _y.append( np.average(vnp , weights=wnp) )\n",
    "            _yerr.append( math.sqrt( np.average( (vnp-_y[-1])**2 , weights=wnp ) ) )\n",
    "        g = go.Figure() \n",
    "        g.add_trace(go.Scatter(x=_x, y=_y,\n",
    "                        error_y=dict(type='data',array=_yerr,visible=True), mode='lines+markers',\n",
    "                                      marker_color=self.runColor) )\n",
    "        return g\n",
    "    \n",
    "    @property\n",
    "    def nLumiBins(self) -> int:\n",
    "        return len(self.lumi_hists)\n",
    "    @property\n",
    "    def filename(self) -> str:\n",
    "        return '/eos/user/c/cmstandi/PURunIIFiles/R{0}/all.root'.format(self.run)\n",
    "    \n",
    "    def aggregateFitRes4(self):\n",
    "        g = make_subplots(self.nLumiBins, cols=1)\n",
    "        g.update_layout(height=self.nLumiBins*400, width=1200, title_text=\"best xsection values per bin\")\n",
    "        for i in range(self.nLumiBins):\n",
    "            lval = float(self.lumi_hists[i].max+self.lumi_hists[i].min)/2 \n",
    "\n",
    "            _x_y = {}\n",
    "            _x_yerr = {}\n",
    "            _x_yerr2 = {}\n",
    "            _x_w = {}\n",
    "            _x_corr = {}\n",
    "            _x_chi2 = {}\n",
    "            _x_diffBestAvg = {}\n",
    "            for x in range(self.nVarBins):\n",
    "                theX = self.data_hists[0].binRepresentatives[x]\n",
    "                _x_y[theX] = self.fitResults[i].Bins[x].bestFit\n",
    "                all_ys = [a.fitResults[i].Bins[x].bestFit for a in self._subRunsSameLumiBins if not a.fitResults[i].Bins[x].atBorder] # and a._obs/a._nTotal > 0.000003]\n",
    "\n",
    "                if len(all_ys)==0:\n",
    "                    all_ys.append(_x_y[theX])\n",
    "                avg = sum(all_ys)/len(all_ys)\n",
    "                y_max = max(all_ys)\n",
    "                y_min = min(all_ys)\n",
    "\n",
    "                _x_yerr[theX] = y_max - _x_y[theX]\n",
    "                _x_yerr2[theX] = _x_y[theX] - y_min\n",
    "                if y_min >  _x_y[theX] or  y_max < _x_y[theX] :\n",
    "                    #print('something wrong' , y_min , _x_y[x] , y_max)\n",
    "                    ...\n",
    "            _x = sorted(_x_y.keys())\n",
    "            _y = []\n",
    "            _yerr = []\n",
    "            _yerr2 = []\n",
    "            color = []\n",
    "            for x in _x:\n",
    "                _y.append(_x_y[x])\n",
    "                color.append(0)\n",
    "                _yerr.append(_x_yerr[x])\n",
    "                _yerr2.append(_x_yerr2[x])\n",
    "\n",
    "            g.add_trace(go.Scatter(x=_x, y=_y,\n",
    "                            error_y=dict(type='data',array=_yerr,visible=True , symmetric=False,arrayminus=_yerr2), mode='lines' , line_color=RunInfo.colorList()[i]) , row=i+1, col=1  )\n",
    "                                          #marker_color=color , marker_colorscale=RunInfo.colorscale , marker_colorbar = dict(title=\"correlation\") ) )\n",
    "            g.add_shape(type=\"line\",\n",
    "                        xref=\"x\", yref=\"y\",\n",
    "                        x0=min(_x), y0=self.fitResults[i].bestFit, x1=max(_x), y1=self.fitResults[i].bestFit,\n",
    "                        line=dict(color=RunInfo.colorList()[i+100],width=3)\n",
    "                        , col=1 , row=i+1)\n",
    "\n",
    "            g.add_shape(type=\"line\",\n",
    "                        xref=\"x\", yref=\"y\",\n",
    "                        y0=min(self.xsecs), x0=self.data_hists[i].mean(), y1=max(self.xsecs), x1=self.data_hists[i].mean(),\n",
    "                        line=dict(color=RunInfo.colorList()[i+100],width=3)\n",
    "                        , col=1 , row=i+1)\n",
    "\n",
    "\n",
    "        return g\n",
    "    \n",
    "    def aggregateFitRes3(self):\n",
    "        _x_y = {}\n",
    "        _x_yerr = {}\n",
    "        _x_yerr2 = {}\n",
    "        _x_w = {}\n",
    "        _x_corr = {}\n",
    "        _x_chi2 = {}\n",
    "        _x_diffBestAvg = {}\n",
    "        for sr in [self]: #._subRuns:\n",
    "\n",
    "            for i in range(self.nLumiBins):\n",
    "                lval = float(sr.lumi_hists[i].max+sr.lumi_hists[i].min)/2 \n",
    "                #print(lval)\n",
    "                chi2 = sr.fitResults[i]\n",
    "                #if chi2.atBorder:\n",
    "                #    continue\n",
    "                y_best = chi2.bestFit\n",
    "                all_ys = [a.bestFit for a in chi2.Bins if not a.atBorder and a._obs/a._nTotal > 0.000003]\n",
    "                all_ys2 = {a._binId:a.bestFit for a in chi2.Bins if not a.atBorder and a._obs/a._nTotal > 0.003}\n",
    "                #print(all_ys2)\n",
    "                if len(all_ys)<2:\n",
    "                    continue\n",
    "                #\n",
    "                y = sum(all_ys)/len(all_ys)\n",
    "                y_err = max(all_ys)-y\n",
    "                y_err2 = y - min(all_ys)\n",
    "\n",
    "                diff = 100.0*(y-y_best)/y\n",
    "                chi2value = 1 - stats.chi2.cdf( sr.chiSquared(i) , 25 )\n",
    "\n",
    "                #if chi2value>10000:\n",
    "                #    chi2value=10000\n",
    "                if lval not in _x_y:\n",
    "                    _x_y[lval] = [y]\n",
    "                    _x_yerr[lval] = [y_err]\n",
    "                    _x_yerr2[lval] = [y_err2]\n",
    "                    _x_w[lval] = [1.0/(y_err**2)]\n",
    "                    _x_corr[lval] = [sr.correlation[i]]\n",
    "                    _x_chi2[lval] = [chi2value]\n",
    "                    _x_diffBestAvg[lval] = [diff]\n",
    "                else:\n",
    "                    _x_y[lval].append(y)\n",
    "                    _x_yerr[lval].append( y_err )\n",
    "                    _x_yerr2[lval].append( y_err2 )\n",
    "                    _x_w[lval].append(1.0/(y_err**2))\n",
    "                    _x_corr[lval].append(sr.correlation[i])\n",
    "                    _x_chi2[lval].append(chi2value)\n",
    "                    _x_diffBestAvg[lval].append( diff )\n",
    "\n",
    "        _x = sorted(_x_y.keys())\n",
    "        #print(_x)\n",
    "        _y = []\n",
    "        _yerr = []\n",
    "        _yerr2 = []\n",
    "        color = []\n",
    "        for x in _x:\n",
    "            if len(_x_y[x])>1:\n",
    "                print(x)\n",
    "            _y.append(np.average(np.array(_x_y[x]) , weights=np.array(_x_w[x])))\n",
    "            #color.append(np.average(np.array(_x_corr[x]), weights=np.array(_x_w[x])))\n",
    "            #color.append(np.average(np.array(_x_chi2[x]), weights=np.array(_x_w[x])))\n",
    "            color.append(np.average(np.array(_x_diffBestAvg[x]), weights=np.array(_x_w[x])))\n",
    "            _yerr.append( math.sqrt( np.average( np.array(_x_yerr[x])**2 , weights=np.array(_x_w[x] ) ) ) )\n",
    "            _yerr2.append( math.sqrt( np.average( np.array(_x_yerr2[x])**2 , weights=np.array(_x_w[x] ) ) ) )\n",
    "        g = go.Figure() \n",
    "        g.add_trace(go.Scatter(x=_x, y=_y,\n",
    "                        error_y=dict(type='data',array=_yerr,visible=True , symmetric=False,arrayminus=_yerr2), mode='markers',\n",
    "                                      marker_color=color , marker_colorscale=RunInfo.colorscale , marker_colorbar = dict(title=\"correlation\") ) )\n",
    "        return g"
   ]
  },
  {
   "cell_type": "code",
   "execution_count": 3,
   "metadata": {},
   "outputs": [],
   "source": [
    "from pathlib import Path\n",
    "\n",
    "import sys\n",
    "sys.path.append('../nTuplizer')\n",
    "from allInfo import GetAllRuns, GetAllEras \n",
    "def export_graph(g , n , pname, pdir):\n",
    "    ghtml = g.to_html()\n",
    "    Path('{0}/{1}/'.format(pdir , pname) ).mkdir(parents=True, exist_ok=True)\n",
    "    with open('{0}/{1}/{2}.html'.format(pdir , pname , n) , 'w') as f:\n",
    "        f.write(ghtml)\n",
    "def publish_res(rinfo , gchi2 , vname ,  name , publish_dir):\n",
    "    gg = rinfo.plot_lumi_distribution(subRuns=-1 , colorLumiScale=4 , density=False)\n",
    "    gg.update_layout(\n",
    "        title=\"Distribution of BX luminosity\",\n",
    "        xaxis_title='luminosity mub/25ns',\n",
    "        yaxis_title=\"probability\",\n",
    "        legend_title=\"Runs\",\n",
    "    )\n",
    "    export_graph(gg , '01-lumi_distribution' , name , publish_dir)\n",
    "    \n",
    "    gg = rinfo.plotPUDists(70)\n",
    "    gg.update_layout(\n",
    "        title=\"PU distribution for sigma=70\",\n",
    "        xaxis_title='number of PU',\n",
    "        yaxis_title=\"probability\",\n",
    "    )    \n",
    "    export_graph(gg , '02-pu_distribution' , name , publish_dir)\n",
    "    \n",
    "  \n",
    "    gg = rinfo.plotPredictions([60,65,75,80,90])\n",
    "    gg.update_layout(\n",
    "        title=\"Distribution of BX luminosity\",\n",
    "        xaxis_title='luminosity mub/25ns',\n",
    "        yaxis_title=\"probability\",\n",
    "        legend_title=\"Runs\",\n",
    "    )    \n",
    "    export_graph(gg , '04-{0}_predictions'.format(vname) , name , publish_dir)\n",
    "    \n",
    "    if rinfo.parentRun is None:\n",
    "        gg = rinfo.plotDataDist(zoom=True)\n",
    "        export_graph(gg , '03-{0}_distribution'.format(vname) , name , publish_dir)\n",
    "\n",
    "        for _xsec in [60,65,75,80,90]:\n",
    "            gg = rinfo.plotRunPredictions(_xsec)\n",
    "            export_graph(gg , '05-{0}_predictions_xsec{1}'.format(vname , _xsec) , name , publish_dir)\n",
    "            \n",
    "        export_graph(gchi2 , '06-bestfit_details'  , name , publish_dir)\n",
    "    export_graph(rinfo.postFitPlots(), '07-postFit_plots'  , name , publish_dir)\n",
    "    export_graph(rinfo.pullPlots(50 , 1.3) , '08-pullPlots' , name , publish_dir)\n",
    "    export_graph(rinfo.NadjiehPullPlots(50 , 1.3) , '08-NadjiehPullPlots' , name , publish_dir)\n",
    "    \n",
    "    if rinfo.parentRun is None:\n",
    "        export_graph(rinfo.aggregateFitRes() , '09-summary1' , name ,publish_dir)\n",
    "        export_graph(rinfo.aggregateFitRes2() , '09-summary2' , name ,publish_dir)\n",
    "        export_graph(rinfo.aggregateFitRes3() , '09-summary3' , name ,publish_dir)\n",
    "        export_graph(rinfo.aggregateFitRes4() , '09-summary4' , name ,publish_dir)\n",
    "        \n",
    "def process_and_publish(year , era , vname , vmin , vmax , vnbins , pu_max ,\n",
    "                        lumiName = 'PHYSICSDel' , lumiQ =  np.array([0,0.004,0.1,.2,0.3,.4,0.5,.6,0.7,.8,0.9,1.0]) , lnbins_per_q = 5 ,\n",
    "                        xsec = np.arange(40,100,1), nthreads = 30 , publish_dir = '/eos/user/c/cmstandi/www/PU/newres/Nima' ):\n",
    "    \n",
    "    name = '{0}{1}/{2}'.format(era, year , vname)\n",
    "    var_bins = np.linspace(vmin,vmax,vnbins+1)\n",
    "    simDist = SimulationVSPu(vname , year = year , var_bins=var_bins , pu_max=pu_max , nthreads=nthreads)\n",
    "\n",
    "    g = simDist.plot(param=1)\n",
    "    simDist.plot(param=10 , g=g)\n",
    "    simDist.plot(param=20 , g=g)\n",
    "    simDist.plot(param=30 , g=g)\n",
    "    simDist.plot(param=40 , g=g)\n",
    "    simDist.plot(param=50 , g=g)\n",
    "    simDist.plot(param=60 , g=g)\n",
    "    simDist.plot(param=70 , g=g)\n",
    "    simDist.plot(param=80 , g=g)\n",
    "    simDist.plot(param=90 , g=g)\n",
    "    g.update_layout(\n",
    "        title=\"Simulated distribution for PU\",\n",
    "        xaxis_title=vname,\n",
    "        yaxis_title=\"probability\",\n",
    "        legend_title=\"Pileup values\",\n",
    "    )    \n",
    "    export_graph(g , '00-Simulation' , name , publish_dir )\n",
    "    \n",
    "    allRuns = sorted( list(set( GetAllRuns(year , era) ) ) )\n",
    "    #allRuns = allRuns[10:15]\n",
    "    #print(allRuns)\n",
    "    print('is going to run over {0} runs'.format( len(allRuns)) )\n",
    "    \n",
    "    rinfo = RunInfo(0 , vname , var_bins , lumiName ,lumiQ , nbins_perq=lnbins_per_q , sub_runs=allRuns , \n",
    "                    nthreads=nthreads , xsecs = xsec )\n",
    "    \n",
    "    rinfo.setSimulation(simDist)\n",
    "    gchi2 = rinfo.fit()\n",
    "\n",
    "    try:\n",
    "        publish_res(rinfo , gchi2 , vname , name , publish_dir)\n",
    "        for sr in rinfo._subRuns : #+ rinfo._subRunsSameLumiBins:\n",
    "            #ext = '/SRSimilarBinning' if sr._isSecondHand else '/SRSameBinning'\n",
    "            publish_res(sr , None , vname , vname , '{0}/{1}{2}/Runs/Run{3}'.format(publish_dir , era, year , sr.run) )\n",
    "    except Exception as e:\n",
    "        print(e)\n",
    "        return rinfo\n",
    "    del rinfo\n",
    "    del simDist\n",
    "    return None"
   ]
  },
  {
   "cell_type": "code",
   "execution_count": 8,
   "metadata": {},
   "outputs": [
    {
     "data": {
      "application/vnd.jupyter.widget-view+json": {
       "model_id": "254ca8cff0ad443d8a1cb6484f8383ef",
       "version_major": 2,
       "version_minor": 0
      },
      "text/plain": [
       "HBox(children=(FloatProgress(value=0.0, max=92.0), HTML(value='')))"
      ]
     },
     "metadata": {},
     "output_type": "display_data"
    },
    {
     "ename": "FileNotFoundError",
     "evalue": "file not found\n\n    '/eos/user/c/cmstandi/PURunIIFiles/2016/SingleNeutrino_CP5.root'\n\nFiles may be specified as:\n   * str/bytes: relative or absolute filesystem path or URL, without any colons\n         other than Windows drive letter or URL schema.\n         Examples: \"rel/file.root\", \"C:\\abs\\file.root\", \"http://where/what.root\"\n   * str/bytes: same with an object-within-ROOT path, separated by a colon.\n         Example: \"rel/file.root:tdirectory/ttree\"\n   * pathlib.Path: always interpreted as a filesystem path or URL only (no\n         object-within-ROOT path), regardless of whether there are any colons.\n         Examples: Path(\"rel:/file.root\"), Path(\"/abs/path:stuff.root\")\n\nFunctions that accept many files (uproot.iterate, etc.) also allow:\n   * glob syntax in str/bytes and pathlib.Path.\n         Examples: Path(\"rel/*.root\"), \"/abs/*.root:tdirectory/ttree\"\n   * dict: keys are filesystem paths, values are objects-within-ROOT paths.\n         Example: {\"/data_v1/*.root\": \"ttree_v1\", \"/data_v2/*.root\": \"ttree_v2\"}\n   * already-open TTree objects.\n   * iterables of the above.\n",
     "output_type": "error",
     "traceback": [
      "\u001b[0;31m---------------------------------------------------------------------------\u001b[0m",
      "\u001b[0;31mFileNotFoundError\u001b[0m                         Traceback (most recent call last)",
      "\u001b[0;32m~/anaconda3/lib/python3.7/site-packages/uproot/source/file.py\u001b[0m in \u001b[0;36m_open\u001b[0;34m(self)\u001b[0m\n\u001b[1;32m    111\u001b[0m         \u001b[0;32mtry\u001b[0m\u001b[0;34m:\u001b[0m\u001b[0;34m\u001b[0m\u001b[0;34m\u001b[0m\u001b[0m\n\u001b[0;32m--> 112\u001b[0;31m             \u001b[0mself\u001b[0m\u001b[0;34m.\u001b[0m\u001b[0m_file\u001b[0m \u001b[0;34m=\u001b[0m \u001b[0mnumpy\u001b[0m\u001b[0;34m.\u001b[0m\u001b[0mmemmap\u001b[0m\u001b[0;34m(\u001b[0m\u001b[0mself\u001b[0m\u001b[0;34m.\u001b[0m\u001b[0m_file_path\u001b[0m\u001b[0;34m,\u001b[0m \u001b[0mdtype\u001b[0m\u001b[0;34m=\u001b[0m\u001b[0mself\u001b[0m\u001b[0;34m.\u001b[0m\u001b[0m_dtype\u001b[0m\u001b[0;34m,\u001b[0m \u001b[0mmode\u001b[0m\u001b[0;34m=\u001b[0m\u001b[0;34m\"r\"\u001b[0m\u001b[0;34m)\u001b[0m\u001b[0;34m\u001b[0m\u001b[0;34m\u001b[0m\u001b[0m\n\u001b[0m\u001b[1;32m    113\u001b[0m             \u001b[0mself\u001b[0m\u001b[0;34m.\u001b[0m\u001b[0m_fallback\u001b[0m \u001b[0;34m=\u001b[0m \u001b[0;32mNone\u001b[0m\u001b[0;34m\u001b[0m\u001b[0;34m\u001b[0m\u001b[0m\n",
      "\u001b[0;32m~/anaconda3/lib/python3.7/site-packages/numpy/core/memmap.py\u001b[0m in \u001b[0;36m__new__\u001b[0;34m(subtype, filename, dtype, mode, offset, shape, order)\u001b[0m\n\u001b[1;32m    224\u001b[0m         \u001b[0;32melse\u001b[0m\u001b[0;34m:\u001b[0m\u001b[0;34m\u001b[0m\u001b[0;34m\u001b[0m\u001b[0m\n\u001b[0;32m--> 225\u001b[0;31m             \u001b[0mf_ctx\u001b[0m \u001b[0;34m=\u001b[0m \u001b[0mopen\u001b[0m\u001b[0;34m(\u001b[0m\u001b[0mos_fspath\u001b[0m\u001b[0;34m(\u001b[0m\u001b[0mfilename\u001b[0m\u001b[0;34m)\u001b[0m\u001b[0;34m,\u001b[0m \u001b[0;34m(\u001b[0m\u001b[0;34m'r'\u001b[0m \u001b[0;32mif\u001b[0m \u001b[0mmode\u001b[0m \u001b[0;34m==\u001b[0m \u001b[0;34m'c'\u001b[0m \u001b[0;32melse\u001b[0m \u001b[0mmode\u001b[0m\u001b[0;34m)\u001b[0m\u001b[0;34m+\u001b[0m\u001b[0;34m'b'\u001b[0m\u001b[0;34m)\u001b[0m\u001b[0;34m\u001b[0m\u001b[0;34m\u001b[0m\u001b[0m\n\u001b[0m\u001b[1;32m    226\u001b[0m \u001b[0;34m\u001b[0m\u001b[0m\n",
      "\u001b[0;31mFileNotFoundError\u001b[0m: [Errno 2] No such file or directory: '/eos/user/c/cmstandi/PURunIIFiles/2016/SingleNeutrino_CP5.root'",
      "\nDuring handling of the above exception, another exception occurred:\n",
      "\u001b[0;31mFileNotFoundError\u001b[0m                         Traceback (most recent call last)",
      "\u001b[0;32m~/anaconda3/lib/python3.7/site-packages/uproot/source/file.py\u001b[0m in \u001b[0;36m__init__\u001b[0;34m(self, file_path)\u001b[0m\n\u001b[1;32m     35\u001b[0m         \u001b[0;32mtry\u001b[0m\u001b[0;34m:\u001b[0m\u001b[0;34m\u001b[0m\u001b[0;34m\u001b[0m\u001b[0m\n\u001b[0;32m---> 36\u001b[0;31m             \u001b[0mself\u001b[0m\u001b[0;34m.\u001b[0m\u001b[0m_file\u001b[0m \u001b[0;34m=\u001b[0m \u001b[0mopen\u001b[0m\u001b[0;34m(\u001b[0m\u001b[0mself\u001b[0m\u001b[0;34m.\u001b[0m\u001b[0m_file_path\u001b[0m\u001b[0;34m,\u001b[0m \u001b[0;34m\"rb\"\u001b[0m\u001b[0;34m)\u001b[0m\u001b[0;34m\u001b[0m\u001b[0;34m\u001b[0m\u001b[0m\n\u001b[0m\u001b[1;32m     37\u001b[0m         \u001b[0;32mexcept\u001b[0m \u001b[0muproot\u001b[0m\u001b[0;34m.\u001b[0m\u001b[0m_util\u001b[0m\u001b[0;34m.\u001b[0m\u001b[0m_FileNotFoundError\u001b[0m\u001b[0;34m:\u001b[0m\u001b[0;34m\u001b[0m\u001b[0;34m\u001b[0m\u001b[0m\n",
      "\u001b[0;31mFileNotFoundError\u001b[0m: [Errno 2] No such file or directory: '/eos/user/c/cmstandi/PURunIIFiles/2016/SingleNeutrino_CP5.root'",
      "\nDuring handling of the above exception, another exception occurred:\n",
      "\u001b[0;31mFileNotFoundError\u001b[0m                         Traceback (most recent call last)",
      "\u001b[0;32m<ipython-input-8-47e788aeac03>\u001b[0m in \u001b[0;36m<module>\u001b[0;34m\u001b[0m\n\u001b[1;32m     16\u001b[0m \u001b[0;34m\u001b[0m\u001b[0m\n\u001b[1;32m     17\u001b[0m \u001b[0;32mfor\u001b[0m \u001b[0mv\u001b[0m\u001b[0;34m,\u001b[0m\u001b[0mvinfo\u001b[0m \u001b[0;32min\u001b[0m \u001b[0mvariables\u001b[0m\u001b[0;34m.\u001b[0m\u001b[0mitems\u001b[0m\u001b[0;34m(\u001b[0m\u001b[0;34m)\u001b[0m\u001b[0;34m:\u001b[0m\u001b[0;34m\u001b[0m\u001b[0;34m\u001b[0m\u001b[0m\n\u001b[0;32m---> 18\u001b[0;31m     \u001b[0mprocess_and_publish\u001b[0m\u001b[0;34m(\u001b[0m\u001b[0;36m2016\u001b[0m \u001b[0;34m,\u001b[0m \u001b[0;34m'H'\u001b[0m \u001b[0;34m,\u001b[0m \u001b[0mvinfo\u001b[0m\u001b[0;34m[\u001b[0m\u001b[0;36m0\u001b[0m\u001b[0;34m]\u001b[0m \u001b[0;34m,\u001b[0m \u001b[0mvinfo\u001b[0m\u001b[0;34m[\u001b[0m\u001b[0;36m2\u001b[0m\u001b[0;34m]\u001b[0m \u001b[0;34m,\u001b[0m \u001b[0mvinfo\u001b[0m\u001b[0;34m[\u001b[0m\u001b[0;36m3\u001b[0m\u001b[0;34m]\u001b[0m \u001b[0;34m,\u001b[0m \u001b[0mvinfo\u001b[0m\u001b[0;34m[\u001b[0m\u001b[0;36m1\u001b[0m\u001b[0;34m]\u001b[0m \u001b[0;34m,\u001b[0m \u001b[0;36m90\u001b[0m  \u001b[0;34m)\u001b[0m\u001b[0;34m\u001b[0m\u001b[0;34m\u001b[0m\u001b[0m\n\u001b[0m",
      "\u001b[0;32m<ipython-input-3-b9f42d7bf0be>\u001b[0m in \u001b[0;36mprocess_and_publish\u001b[0;34m(year, era, vname, vmin, vmax, vnbins, pu_max, lumiName, lumiQ, lnbins_per_q, xsec, nthreads, publish_dir)\u001b[0m\n\u001b[1;32m     62\u001b[0m     \u001b[0mname\u001b[0m \u001b[0;34m=\u001b[0m \u001b[0;34m'{0}{1}/{2}'\u001b[0m\u001b[0;34m.\u001b[0m\u001b[0mformat\u001b[0m\u001b[0;34m(\u001b[0m\u001b[0mera\u001b[0m\u001b[0;34m,\u001b[0m \u001b[0myear\u001b[0m \u001b[0;34m,\u001b[0m \u001b[0mvname\u001b[0m\u001b[0;34m)\u001b[0m\u001b[0;34m\u001b[0m\u001b[0;34m\u001b[0m\u001b[0m\n\u001b[1;32m     63\u001b[0m     \u001b[0mvar_bins\u001b[0m \u001b[0;34m=\u001b[0m \u001b[0mnp\u001b[0m\u001b[0;34m.\u001b[0m\u001b[0mlinspace\u001b[0m\u001b[0;34m(\u001b[0m\u001b[0mvmin\u001b[0m\u001b[0;34m,\u001b[0m\u001b[0mvmax\u001b[0m\u001b[0;34m,\u001b[0m\u001b[0mvnbins\u001b[0m\u001b[0;34m+\u001b[0m\u001b[0;36m1\u001b[0m\u001b[0;34m)\u001b[0m\u001b[0;34m\u001b[0m\u001b[0;34m\u001b[0m\u001b[0m\n\u001b[0;32m---> 64\u001b[0;31m     \u001b[0msimDist\u001b[0m \u001b[0;34m=\u001b[0m \u001b[0mSimulationVSPu\u001b[0m\u001b[0;34m(\u001b[0m\u001b[0mvname\u001b[0m \u001b[0;34m,\u001b[0m \u001b[0myear\u001b[0m \u001b[0;34m=\u001b[0m \u001b[0myear\u001b[0m \u001b[0;34m,\u001b[0m \u001b[0mvar_bins\u001b[0m\u001b[0;34m=\u001b[0m\u001b[0mvar_bins\u001b[0m \u001b[0;34m,\u001b[0m \u001b[0mpu_max\u001b[0m\u001b[0;34m=\u001b[0m\u001b[0mpu_max\u001b[0m \u001b[0;34m,\u001b[0m \u001b[0mnthreads\u001b[0m\u001b[0;34m=\u001b[0m\u001b[0mnthreads\u001b[0m\u001b[0;34m)\u001b[0m\u001b[0;34m\u001b[0m\u001b[0;34m\u001b[0m\u001b[0m\n\u001b[0m\u001b[1;32m     65\u001b[0m \u001b[0;34m\u001b[0m\u001b[0m\n\u001b[1;32m     66\u001b[0m     \u001b[0mg\u001b[0m \u001b[0;34m=\u001b[0m \u001b[0msimDist\u001b[0m\u001b[0;34m.\u001b[0m\u001b[0mplot\u001b[0m\u001b[0;34m(\u001b[0m\u001b[0mparam\u001b[0m\u001b[0;34m=\u001b[0m\u001b[0;36m1\u001b[0m\u001b[0;34m)\u001b[0m\u001b[0;34m\u001b[0m\u001b[0;34m\u001b[0m\u001b[0m\n",
      "\u001b[0;32m<ipython-input-1-bba57c9d8b53>\u001b[0m in \u001b[0;36m__init__\u001b[0;34m(self, varname, year, fname, var_bins, var_min, var_max, var_nbins, pu_min, pu_max, mctune, apv, nthreads)\u001b[0m\n\u001b[1;32m    763\u001b[0m             \u001b[0mself\u001b[0m\u001b[0;34m.\u001b[0m\u001b[0mpu_bins\u001b[0m\u001b[0;34m[\u001b[0m\u001b[0;36m0\u001b[0m\u001b[0;34m]\u001b[0m \u001b[0;34m=\u001b[0m \u001b[0;34m[\u001b[0m\u001b[0;36m1.0\u001b[0m\u001b[0;34m*\u001b[0m\u001b[0;34m(\u001b[0m\u001b[0mi\u001b[0m\u001b[0;34m==\u001b[0m\u001b[0;36m0\u001b[0m\u001b[0;34m)\u001b[0m \u001b[0;32mfor\u001b[0m \u001b[0mi\u001b[0m \u001b[0;32min\u001b[0m \u001b[0mrange\u001b[0m\u001b[0;34m(\u001b[0m\u001b[0mvar_nbins\u001b[0m\u001b[0;34m)\u001b[0m\u001b[0;34m]\u001b[0m\u001b[0;34m\u001b[0m\u001b[0;34m\u001b[0m\u001b[0m\n\u001b[1;32m    764\u001b[0m             \u001b[0mpu_min\u001b[0m \u001b[0;34m=\u001b[0m \u001b[0;36m1\u001b[0m\u001b[0;34m\u001b[0m\u001b[0;34m\u001b[0m\u001b[0m\n\u001b[0;32m--> 765\u001b[0;31m         \u001b[0;32mwith\u001b[0m \u001b[0muproot\u001b[0m\u001b[0;34m.\u001b[0m\u001b[0mopen\u001b[0m\u001b[0;34m(\u001b[0m\u001b[0mself\u001b[0m\u001b[0;34m.\u001b[0m\u001b[0mfileName\u001b[0m\u001b[0;34m)\u001b[0m \u001b[0;32mas\u001b[0m \u001b[0mfile\u001b[0m\u001b[0;34m:\u001b[0m\u001b[0;34m\u001b[0m\u001b[0;34m\u001b[0m\u001b[0m\n\u001b[0m\u001b[1;32m    766\u001b[0m         \u001b[0;31m#file = uproot.open(fSimulation)\u001b[0m\u001b[0;34m\u001b[0m\u001b[0;34m\u001b[0m\u001b[0;34m\u001b[0m\u001b[0m\n\u001b[1;32m    767\u001b[0m             \u001b[0mtree\u001b[0m \u001b[0;34m=\u001b[0m \u001b[0mfile\u001b[0m\u001b[0;34m[\u001b[0m\u001b[0;34m\"PUAnalyzer\"\u001b[0m\u001b[0;34m]\u001b[0m\u001b[0;34m[\u001b[0m\u001b[0;34m\"Trees\"\u001b[0m\u001b[0;34m]\u001b[0m\u001b[0;34m[\u001b[0m\u001b[0;34m\"Events\"\u001b[0m\u001b[0;34m]\u001b[0m\u001b[0;34m\u001b[0m\u001b[0;34m\u001b[0m\u001b[0m\n",
      "\u001b[0;32m~/anaconda3/lib/python3.7/site-packages/uproot/reading.py\u001b[0m in \u001b[0;36mopen\u001b[0;34m(path, object_cache, array_cache, custom_classes, decompression_executor, interpretation_executor, **options)\u001b[0m\n\u001b[1;32m    146\u001b[0m         \u001b[0mdecompression_executor\u001b[0m\u001b[0;34m=\u001b[0m\u001b[0mdecompression_executor\u001b[0m\u001b[0;34m,\u001b[0m\u001b[0;34m\u001b[0m\u001b[0;34m\u001b[0m\u001b[0m\n\u001b[1;32m    147\u001b[0m         \u001b[0minterpretation_executor\u001b[0m\u001b[0;34m=\u001b[0m\u001b[0minterpretation_executor\u001b[0m\u001b[0;34m,\u001b[0m\u001b[0;34m\u001b[0m\u001b[0;34m\u001b[0m\u001b[0m\n\u001b[0;32m--> 148\u001b[0;31m         \u001b[0;34m**\u001b[0m\u001b[0moptions\u001b[0m\u001b[0;34m,\u001b[0m  \u001b[0;31m# NOTE: a comma after **options breaks Python 2\u001b[0m\u001b[0;34m\u001b[0m\u001b[0;34m\u001b[0m\u001b[0m\n\u001b[0m\u001b[1;32m    149\u001b[0m     )\n\u001b[1;32m    150\u001b[0m \u001b[0;34m\u001b[0m\u001b[0m\n",
      "\u001b[0;32m~/anaconda3/lib/python3.7/site-packages/uproot/reading.py\u001b[0m in \u001b[0;36m__init__\u001b[0;34m(self, file_path, object_cache, array_cache, custom_classes, decompression_executor, interpretation_executor, **options)\u001b[0m\n\u001b[1;32m    579\u001b[0m         )\n\u001b[1;32m    580\u001b[0m         self._source = Source(\n\u001b[0;32m--> 581\u001b[0;31m             \u001b[0mfile_path\u001b[0m\u001b[0;34m,\u001b[0m \u001b[0;34m**\u001b[0m\u001b[0mself\u001b[0m\u001b[0;34m.\u001b[0m\u001b[0m_options\u001b[0m  \u001b[0;31m# NOTE: a comma after **options breaks Python 2\u001b[0m\u001b[0;34m\u001b[0m\u001b[0;34m\u001b[0m\u001b[0m\n\u001b[0m\u001b[1;32m    582\u001b[0m         )\n\u001b[1;32m    583\u001b[0m \u001b[0;34m\u001b[0m\u001b[0m\n",
      "\u001b[0;32m~/anaconda3/lib/python3.7/site-packages/uproot/source/file.py\u001b[0m in \u001b[0;36m__init__\u001b[0;34m(self, file_path, **options)\u001b[0m\n\u001b[1;32m    106\u001b[0m \u001b[0;34m\u001b[0m\u001b[0m\n\u001b[1;32m    107\u001b[0m         \u001b[0mself\u001b[0m\u001b[0;34m.\u001b[0m\u001b[0m_file_path\u001b[0m \u001b[0;34m=\u001b[0m \u001b[0mfile_path\u001b[0m\u001b[0;34m\u001b[0m\u001b[0;34m\u001b[0m\u001b[0m\n\u001b[0;32m--> 108\u001b[0;31m         \u001b[0mself\u001b[0m\u001b[0;34m.\u001b[0m\u001b[0m_open\u001b[0m\u001b[0;34m(\u001b[0m\u001b[0;34m)\u001b[0m\u001b[0;34m\u001b[0m\u001b[0;34m\u001b[0m\u001b[0m\n\u001b[0m\u001b[1;32m    109\u001b[0m \u001b[0;34m\u001b[0m\u001b[0m\n\u001b[1;32m    110\u001b[0m     \u001b[0;32mdef\u001b[0m \u001b[0m_open\u001b[0m\u001b[0;34m(\u001b[0m\u001b[0mself\u001b[0m\u001b[0;34m)\u001b[0m\u001b[0;34m:\u001b[0m\u001b[0;34m\u001b[0m\u001b[0;34m\u001b[0m\u001b[0m\n",
      "\u001b[0;32m~/anaconda3/lib/python3.7/site-packages/uproot/source/file.py\u001b[0m in \u001b[0;36m_open\u001b[0;34m(self)\u001b[0m\n\u001b[1;32m    117\u001b[0m             \u001b[0mopts\u001b[0m\u001b[0;34m[\u001b[0m\u001b[0;34m\"num_workers\"\u001b[0m\u001b[0;34m]\u001b[0m \u001b[0;34m=\u001b[0m \u001b[0mself\u001b[0m\u001b[0;34m.\u001b[0m\u001b[0m_num_fallback_workers\u001b[0m\u001b[0;34m\u001b[0m\u001b[0;34m\u001b[0m\u001b[0m\n\u001b[1;32m    118\u001b[0m             self._fallback = uproot.source.file.MultithreadedFileSource(\n\u001b[0;32m--> 119\u001b[0;31m                 \u001b[0mself\u001b[0m\u001b[0;34m.\u001b[0m\u001b[0m_file_path\u001b[0m\u001b[0;34m,\u001b[0m \u001b[0;34m**\u001b[0m\u001b[0mopts\u001b[0m  \u001b[0;31m# NOTE: a comma after **opts breaks Python 2\u001b[0m\u001b[0;34m\u001b[0m\u001b[0;34m\u001b[0m\u001b[0m\n\u001b[0m\u001b[1;32m    120\u001b[0m             )\n\u001b[1;32m    121\u001b[0m \u001b[0;34m\u001b[0m\u001b[0m\n",
      "\u001b[0;32m~/anaconda3/lib/python3.7/site-packages/uproot/source/file.py\u001b[0m in \u001b[0;36m__init__\u001b[0;34m(self, file_path, **options)\u001b[0m\n\u001b[1;32m    248\u001b[0m \u001b[0;34m\u001b[0m\u001b[0m\n\u001b[1;32m    249\u001b[0m         \u001b[0mself\u001b[0m\u001b[0;34m.\u001b[0m\u001b[0m_file_path\u001b[0m \u001b[0;34m=\u001b[0m \u001b[0mfile_path\u001b[0m\u001b[0;34m\u001b[0m\u001b[0;34m\u001b[0m\u001b[0m\n\u001b[0;32m--> 250\u001b[0;31m         \u001b[0mself\u001b[0m\u001b[0;34m.\u001b[0m\u001b[0m_open\u001b[0m\u001b[0;34m(\u001b[0m\u001b[0;34m)\u001b[0m\u001b[0;34m\u001b[0m\u001b[0;34m\u001b[0m\u001b[0m\n\u001b[0m\u001b[1;32m    251\u001b[0m \u001b[0;34m\u001b[0m\u001b[0m\n\u001b[1;32m    252\u001b[0m     \u001b[0;32mdef\u001b[0m \u001b[0m_open\u001b[0m\u001b[0;34m(\u001b[0m\u001b[0mself\u001b[0m\u001b[0;34m)\u001b[0m\u001b[0;34m:\u001b[0m\u001b[0;34m\u001b[0m\u001b[0;34m\u001b[0m\u001b[0m\n",
      "\u001b[0;32m~/anaconda3/lib/python3.7/site-packages/uproot/source/file.py\u001b[0m in \u001b[0;36m_open\u001b[0;34m(self)\u001b[0m\n\u001b[1;32m    252\u001b[0m     \u001b[0;32mdef\u001b[0m \u001b[0m_open\u001b[0m\u001b[0;34m(\u001b[0m\u001b[0mself\u001b[0m\u001b[0;34m)\u001b[0m\u001b[0;34m:\u001b[0m\u001b[0;34m\u001b[0m\u001b[0;34m\u001b[0m\u001b[0m\n\u001b[1;32m    253\u001b[0m         self._executor = uproot.source.futures.ResourceThreadPoolExecutor(\n\u001b[0;32m--> 254\u001b[0;31m             \u001b[0;34m[\u001b[0m\u001b[0mFileResource\u001b[0m\u001b[0;34m(\u001b[0m\u001b[0mself\u001b[0m\u001b[0;34m.\u001b[0m\u001b[0m_file_path\u001b[0m\u001b[0;34m)\u001b[0m \u001b[0;32mfor\u001b[0m \u001b[0mx\u001b[0m \u001b[0;32min\u001b[0m \u001b[0mrange\u001b[0m\u001b[0;34m(\u001b[0m\u001b[0mself\u001b[0m\u001b[0;34m.\u001b[0m\u001b[0m_num_workers\u001b[0m\u001b[0;34m)\u001b[0m\u001b[0;34m]\u001b[0m\u001b[0;34m\u001b[0m\u001b[0;34m\u001b[0m\u001b[0m\n\u001b[0m\u001b[1;32m    255\u001b[0m         )\n\u001b[1;32m    256\u001b[0m         \u001b[0mself\u001b[0m\u001b[0;34m.\u001b[0m\u001b[0m_num_bytes\u001b[0m \u001b[0;34m=\u001b[0m \u001b[0mos\u001b[0m\u001b[0;34m.\u001b[0m\u001b[0mpath\u001b[0m\u001b[0;34m.\u001b[0m\u001b[0mgetsize\u001b[0m\u001b[0;34m(\u001b[0m\u001b[0mself\u001b[0m\u001b[0;34m.\u001b[0m\u001b[0m_file_path\u001b[0m\u001b[0;34m)\u001b[0m\u001b[0;34m\u001b[0m\u001b[0;34m\u001b[0m\u001b[0m\n",
      "\u001b[0;32m~/anaconda3/lib/python3.7/site-packages/uproot/source/file.py\u001b[0m in \u001b[0;36m<listcomp>\u001b[0;34m(.0)\u001b[0m\n\u001b[1;32m    252\u001b[0m     \u001b[0;32mdef\u001b[0m \u001b[0m_open\u001b[0m\u001b[0;34m(\u001b[0m\u001b[0mself\u001b[0m\u001b[0;34m)\u001b[0m\u001b[0;34m:\u001b[0m\u001b[0;34m\u001b[0m\u001b[0;34m\u001b[0m\u001b[0m\n\u001b[1;32m    253\u001b[0m         self._executor = uproot.source.futures.ResourceThreadPoolExecutor(\n\u001b[0;32m--> 254\u001b[0;31m             \u001b[0;34m[\u001b[0m\u001b[0mFileResource\u001b[0m\u001b[0;34m(\u001b[0m\u001b[0mself\u001b[0m\u001b[0;34m.\u001b[0m\u001b[0m_file_path\u001b[0m\u001b[0;34m)\u001b[0m \u001b[0;32mfor\u001b[0m \u001b[0mx\u001b[0m \u001b[0;32min\u001b[0m \u001b[0mrange\u001b[0m\u001b[0;34m(\u001b[0m\u001b[0mself\u001b[0m\u001b[0;34m.\u001b[0m\u001b[0m_num_workers\u001b[0m\u001b[0;34m)\u001b[0m\u001b[0;34m]\u001b[0m\u001b[0;34m\u001b[0m\u001b[0;34m\u001b[0m\u001b[0m\n\u001b[0m\u001b[1;32m    255\u001b[0m         )\n\u001b[1;32m    256\u001b[0m         \u001b[0mself\u001b[0m\u001b[0;34m.\u001b[0m\u001b[0m_num_bytes\u001b[0m \u001b[0;34m=\u001b[0m \u001b[0mos\u001b[0m\u001b[0;34m.\u001b[0m\u001b[0mpath\u001b[0m\u001b[0;34m.\u001b[0m\u001b[0mgetsize\u001b[0m\u001b[0;34m(\u001b[0m\u001b[0mself\u001b[0m\u001b[0;34m.\u001b[0m\u001b[0m_file_path\u001b[0m\u001b[0;34m)\u001b[0m\u001b[0;34m\u001b[0m\u001b[0;34m\u001b[0m\u001b[0m\n",
      "\u001b[0;32m~/anaconda3/lib/python3.7/site-packages/uproot/source/file.py\u001b[0m in \u001b[0;36m__init__\u001b[0;34m(self, file_path)\u001b[0m\n\u001b[1;32m     36\u001b[0m             \u001b[0mself\u001b[0m\u001b[0;34m.\u001b[0m\u001b[0m_file\u001b[0m \u001b[0;34m=\u001b[0m \u001b[0mopen\u001b[0m\u001b[0;34m(\u001b[0m\u001b[0mself\u001b[0m\u001b[0;34m.\u001b[0m\u001b[0m_file_path\u001b[0m\u001b[0;34m,\u001b[0m \u001b[0;34m\"rb\"\u001b[0m\u001b[0;34m)\u001b[0m\u001b[0;34m\u001b[0m\u001b[0;34m\u001b[0m\u001b[0m\n\u001b[1;32m     37\u001b[0m         \u001b[0;32mexcept\u001b[0m \u001b[0muproot\u001b[0m\u001b[0;34m.\u001b[0m\u001b[0m_util\u001b[0m\u001b[0;34m.\u001b[0m\u001b[0m_FileNotFoundError\u001b[0m\u001b[0;34m:\u001b[0m\u001b[0;34m\u001b[0m\u001b[0;34m\u001b[0m\u001b[0m\n\u001b[0;32m---> 38\u001b[0;31m             \u001b[0;32mraise\u001b[0m \u001b[0muproot\u001b[0m\u001b[0;34m.\u001b[0m\u001b[0m_util\u001b[0m\u001b[0;34m.\u001b[0m\u001b[0m_file_not_found\u001b[0m\u001b[0;34m(\u001b[0m\u001b[0mfile_path\u001b[0m\u001b[0;34m)\u001b[0m\u001b[0;34m\u001b[0m\u001b[0;34m\u001b[0m\u001b[0m\n\u001b[0m\u001b[1;32m     39\u001b[0m \u001b[0;34m\u001b[0m\u001b[0m\n\u001b[1;32m     40\u001b[0m     \u001b[0;34m@\u001b[0m\u001b[0mproperty\u001b[0m\u001b[0;34m\u001b[0m\u001b[0;34m\u001b[0m\u001b[0m\n",
      "\u001b[0;31mFileNotFoundError\u001b[0m: file not found\n\n    '/eos/user/c/cmstandi/PURunIIFiles/2016/SingleNeutrino_CP5.root'\n\nFiles may be specified as:\n   * str/bytes: relative or absolute filesystem path or URL, without any colons\n         other than Windows drive letter or URL schema.\n         Examples: \"rel/file.root\", \"C:\\abs\\file.root\", \"http://where/what.root\"\n   * str/bytes: same with an object-within-ROOT path, separated by a colon.\n         Example: \"rel/file.root:tdirectory/ttree\"\n   * pathlib.Path: always interpreted as a filesystem path or URL only (no\n         object-within-ROOT path), regardless of whether there are any colons.\n         Examples: Path(\"rel:/file.root\"), Path(\"/abs/path:stuff.root\")\n\nFunctions that accept many files (uproot.iterate, etc.) also allow:\n   * glob syntax in str/bytes and pathlib.Path.\n         Examples: Path(\"rel/*.root\"), \"/abs/*.root:tdirectory/ttree\"\n   * dict: keys are filesystem paths, values are objects-within-ROOT paths.\n         Example: {\"/data_v1/*.root\": \"ttree_v1\", \"/data_v2/*.root\": \"ttree_v2\"}\n   * already-open TTree objects.\n   * iterables of the above.\n"
     ]
    }
   ],
   "source": [
    "variables = { \"nVertices\" : ( \"nVertices\" , 90 , 0 , 90 ) ,\n",
    "              \"nGoodVertices\" : (\"nGoodVertices\", 80, 0 , 80) ,\n",
    "              \"nEles\" : (\"nEles\" , 10 , 0 , 10 ) ,\n",
    "              \"nMus\" : (\"nMus\" , 10 , 0 , 10 ),\n",
    "              \"nChargedHadrons\" : (\"nChargedHadrons\" , 120 , 0 , 1200 ),\n",
    "              \"nLostTracks\": (\"nLostTracks\" , 35 , 0 , 35 ),\n",
    "              \"nPhotons\" : (\"nPhotons\" , 120 , 0 , 600 ),\n",
    "              \"nNeutralHadrons\" : (\"nNeutralHadrons\" , 60 , 0 , 120 ),\n",
    "              \"fixedGridRhoAll\" : (\"fixedGridRhoAll\" , 40 , 0 , 40 ),\n",
    "              \"fixedGridRhoFastjetAll\" : (\"fixedGridRhoFastjetAll\" , 40 , 0 , 40 ),\n",
    "              \"fixedGridRhoFastjetAllCalo\" : (\"fixedGridRhoFastjetAllCalo\" , 25 , 0 , 25 ),\n",
    "              \"fixedGridRhoFastjetCentral\" : (\"fixedGridRhoFastjetCentral\" , 50 , 0 , 50 ),\n",
    "              \"fixedGridRhoFastjetCentralCalo\" : (\"fixedGridRhoFastjetCentralCalo\" , 20 , 0 , 20 ),\n",
    "              \"fixedGridRhoFastjetCentralChargedPileUp\" : (\"fixedGridRhoFastjetCentralChargedPileUp\" , 35 , 0 , 35 ),\n",
    "              \"fixedGridRhoFastjetCentralNeutral\" : (\"fixedGridRhoFastjetCentralNeutral\" , 12 , 0 , 12 ) }\n",
    "\n",
    "for v,vinfo in variables.items():\n",
    "    process_and_publish(2016 , 'H' , vinfo[0] , vinfo[2] , vinfo[3] , vinfo[1] , 90  )"
   ]
  },
  {
   "cell_type": "code",
   "execution_count": null,
   "metadata": {},
   "outputs": [],
   "source": [
    "#Rinfo = process_and_publish(2017 , 'D' , 'nGoodVertices' , 0 , 90 , 90 , 90  )"
   ]
  },
  {
   "cell_type": "code",
   "execution_count": null,
   "metadata": {},
   "outputs": [],
   "source": [
    "#Rinfo = process_and_publish(2017 , 'D' , 'fixedGridRhoFastjetAllCalo' , 0 , 30 , 30 , 90  )"
   ]
  },
  {
   "cell_type": "code",
   "execution_count": null,
   "metadata": {},
   "outputs": [],
   "source": [
    "#Rinfo = process_and_publish(2017 , 'D' , 'fixedGridRhoFastjetCentralNeutral' , 0 , 30 , 30 , 90  )"
   ]
  },
  {
   "cell_type": "code",
   "execution_count": null,
   "metadata": {},
   "outputs": [],
   "source": [
    "#Rinfo = process_and_publish(2017 , 'D' , 'nChargedHadrons' , 0 , 1500 , 150 , 90  )"
   ]
  },
  {
   "cell_type": "code",
   "execution_count": null,
   "metadata": {},
   "outputs": [],
   "source": [
    "#Rinfo = process_and_publish(2017 , 'D' , 'nVertices' , 0 , 90 , 90 , 90  )"
   ]
  },
  {
   "cell_type": "code",
   "execution_count": 38,
   "metadata": {},
   "outputs": [
    {
     "data": {
      "application/vnd.jupyter.widget-view+json": {
       "model_id": "ccd2c962af96422c86e1c1d12efff084",
       "version_major": 2,
       "version_minor": 0
      },
      "text/plain": [
       "  0%|          | 0/102 [00:00<?, ?it/s, SIMULATION]"
      ]
     },
     "metadata": {},
     "output_type": "display_data"
    }
   ],
   "source": [
    "simDist = SimulationVSPu('nVertices' , year = 2017 , var_bins= np.linspace(0,100,101) , pu_max=100 , nthreads=30)"
   ]
  },
  {
   "cell_type": "code",
   "execution_count": 39,
   "metadata": {},
   "outputs": [],
   "source": [
    "aa = simDist.plotEfficiencies()"
   ]
  },
  {
   "cell_type": "code",
   "execution_count": 40,
   "metadata": {},
   "outputs": [
    {
     "data": {
      "application/vnd.plotly.v1+json": {
       "config": {
        "plotlyServerURL": "https://plot.ly"
       },
       "data": [
        {
         "mode": "lines",
         "name": "recEffnVertices_vs_pu",
         "type": "scatter",
         "x": [
          0.5,
          1.5,
          2.5,
          3.5,
          4.5,
          5.5,
          6.5,
          7.5,
          8.5,
          9.5,
          10.5,
          11.5,
          12.5,
          13.5,
          14.5,
          15.5,
          16.5,
          17.5,
          18.5,
          19.5,
          20.5,
          21.5,
          22.5,
          23.5,
          24.5,
          25.5,
          26.5,
          27.5,
          28.5,
          29.5,
          30.5,
          31.5,
          32.5,
          33.5,
          34.5,
          35.5,
          36.5,
          37.5,
          38.5,
          39.5,
          40.5,
          41.5,
          42.5,
          43.5,
          44.5,
          45.5,
          46.5,
          47.5,
          48.5,
          49.5,
          50.5,
          51.5,
          52.5,
          53.5,
          54.5,
          55.5,
          56.5,
          57.5,
          58.5,
          59.5,
          60.5,
          61.5,
          62.5,
          63.5,
          64.5,
          65.5,
          66.5,
          67.5,
          68.5,
          69.5,
          70.5,
          71.5,
          72.5,
          73.5,
          74.5,
          75.5,
          76.5,
          77.5,
          78.5,
          79.5,
          80.5,
          81.5,
          82.5,
          83.5,
          84.5,
          85.5,
          86.5,
          87.5,
          88.5,
          89.5,
          90.5,
          91.5,
          92.5,
          93.5,
          94.5,
          95.5,
          96.5,
          97.5,
          98.5,
          99.5
         ],
         "y": [
          null,
          1.5274578387507303,
          1.133010720904966,
          1.0350916119953142,
          0.9906600199401795,
          0.9633228214442534,
          0.944305724239325,
          0.9293485346489817,
          0.9178485543258188,
          0.9075455326232282,
          0.8990723024873077,
          0.8921619992902564,
          0.8855343792376525,
          0.8804838295140118,
          0.8757373252554128,
          0.871175015114833,
          0.8669007944148286,
          0.863516483206846,
          0.85997320698536,
          0.8562802441006894,
          0.8524253440197189,
          0.8491031423988282,
          0.846148668017452,
          0.8424489960344238,
          0.8387540512988841,
          0.8355474201670597,
          0.8328953797933714,
          0.8293330428548886,
          0.8264435496646624,
          0.8236343400781969,
          0.8207632955269053,
          0.8179903127694843,
          0.815391940999142,
          0.8125493924478194,
          0.809961770679947,
          0.8078317950081151,
          0.8056229493198892,
          0.8034195005098961,
          0.8015852428258367,
          0.7996649379753081,
          0.7978712135142267,
          0.7964984376797614,
          0.795373564789918,
          0.7943358630266005,
          0.7934033955120889,
          0.7927556923690032,
          0.7920725004618704,
          0.7922602383139227,
          0.7925230558979618,
          0.7931166118519751,
          0.7939546085003139,
          0.7948698345219046,
          0.7961268811828479,
          0.7984225594920983,
          0.8003565430037491,
          0.8027130673813497,
          0.8055225747533827,
          0.8081599213233526,
          0.8110862397699898,
          0.8142206290860392,
          0.8177342011801606,
          0.8212701679951555,
          0.825458416479424,
          0.8286908208023664,
          0.8331052982647854,
          0.8368466831532821,
          0.841078850084052,
          0.8449284179599892,
          0.8491573945808812,
          0.853231379287116,
          0.8575056493378632,
          0.8614251494924835,
          0.8652178379437999,
          0.8694669530132616,
          0.8735066525518073,
          0.8771327283407212,
          0.8810624946690571,
          0.8852434666358395,
          0.8882134917852591,
          0.8913776946385403,
          0.8954123011971935,
          0.898941815466637,
          0.9015427479126468,
          0.9046545072368518,
          0.9063816519425045,
          0.9080833431322826,
          0.9100499638942718,
          0.9118346279961581,
          0.9130962886515701,
          0.9144432558652242,
          0.9141441079758351,
          0.9118619777312316,
          0.9134208720603832,
          0.9119622378508523,
          0.9117215456739437,
          0.9086884460977498,
          0.9033564814814813,
          0.9060338843612619,
          0.8988561936402466,
          0.9039992873100064
         ]
        }
       ],
       "layout": {
        "template": {
         "data": {
          "bar": [
           {
            "error_x": {
             "color": "#2a3f5f"
            },
            "error_y": {
             "color": "#2a3f5f"
            },
            "marker": {
             "line": {
              "color": "#E5ECF6",
              "width": 0.5
             }
            },
            "type": "bar"
           }
          ],
          "barpolar": [
           {
            "marker": {
             "line": {
              "color": "#E5ECF6",
              "width": 0.5
             }
            },
            "type": "barpolar"
           }
          ],
          "carpet": [
           {
            "aaxis": {
             "endlinecolor": "#2a3f5f",
             "gridcolor": "white",
             "linecolor": "white",
             "minorgridcolor": "white",
             "startlinecolor": "#2a3f5f"
            },
            "baxis": {
             "endlinecolor": "#2a3f5f",
             "gridcolor": "white",
             "linecolor": "white",
             "minorgridcolor": "white",
             "startlinecolor": "#2a3f5f"
            },
            "type": "carpet"
           }
          ],
          "choropleth": [
           {
            "colorbar": {
             "outlinewidth": 0,
             "ticks": ""
            },
            "type": "choropleth"
           }
          ],
          "contour": [
           {
            "colorbar": {
             "outlinewidth": 0,
             "ticks": ""
            },
            "colorscale": [
             [
              0,
              "#0d0887"
             ],
             [
              0.1111111111111111,
              "#46039f"
             ],
             [
              0.2222222222222222,
              "#7201a8"
             ],
             [
              0.3333333333333333,
              "#9c179e"
             ],
             [
              0.4444444444444444,
              "#bd3786"
             ],
             [
              0.5555555555555556,
              "#d8576b"
             ],
             [
              0.6666666666666666,
              "#ed7953"
             ],
             [
              0.7777777777777778,
              "#fb9f3a"
             ],
             [
              0.8888888888888888,
              "#fdca26"
             ],
             [
              1,
              "#f0f921"
             ]
            ],
            "type": "contour"
           }
          ],
          "contourcarpet": [
           {
            "colorbar": {
             "outlinewidth": 0,
             "ticks": ""
            },
            "type": "contourcarpet"
           }
          ],
          "heatmap": [
           {
            "colorbar": {
             "outlinewidth": 0,
             "ticks": ""
            },
            "colorscale": [
             [
              0,
              "#0d0887"
             ],
             [
              0.1111111111111111,
              "#46039f"
             ],
             [
              0.2222222222222222,
              "#7201a8"
             ],
             [
              0.3333333333333333,
              "#9c179e"
             ],
             [
              0.4444444444444444,
              "#bd3786"
             ],
             [
              0.5555555555555556,
              "#d8576b"
             ],
             [
              0.6666666666666666,
              "#ed7953"
             ],
             [
              0.7777777777777778,
              "#fb9f3a"
             ],
             [
              0.8888888888888888,
              "#fdca26"
             ],
             [
              1,
              "#f0f921"
             ]
            ],
            "type": "heatmap"
           }
          ],
          "heatmapgl": [
           {
            "colorbar": {
             "outlinewidth": 0,
             "ticks": ""
            },
            "colorscale": [
             [
              0,
              "#0d0887"
             ],
             [
              0.1111111111111111,
              "#46039f"
             ],
             [
              0.2222222222222222,
              "#7201a8"
             ],
             [
              0.3333333333333333,
              "#9c179e"
             ],
             [
              0.4444444444444444,
              "#bd3786"
             ],
             [
              0.5555555555555556,
              "#d8576b"
             ],
             [
              0.6666666666666666,
              "#ed7953"
             ],
             [
              0.7777777777777778,
              "#fb9f3a"
             ],
             [
              0.8888888888888888,
              "#fdca26"
             ],
             [
              1,
              "#f0f921"
             ]
            ],
            "type": "heatmapgl"
           }
          ],
          "histogram": [
           {
            "marker": {
             "colorbar": {
              "outlinewidth": 0,
              "ticks": ""
             }
            },
            "type": "histogram"
           }
          ],
          "histogram2d": [
           {
            "colorbar": {
             "outlinewidth": 0,
             "ticks": ""
            },
            "colorscale": [
             [
              0,
              "#0d0887"
             ],
             [
              0.1111111111111111,
              "#46039f"
             ],
             [
              0.2222222222222222,
              "#7201a8"
             ],
             [
              0.3333333333333333,
              "#9c179e"
             ],
             [
              0.4444444444444444,
              "#bd3786"
             ],
             [
              0.5555555555555556,
              "#d8576b"
             ],
             [
              0.6666666666666666,
              "#ed7953"
             ],
             [
              0.7777777777777778,
              "#fb9f3a"
             ],
             [
              0.8888888888888888,
              "#fdca26"
             ],
             [
              1,
              "#f0f921"
             ]
            ],
            "type": "histogram2d"
           }
          ],
          "histogram2dcontour": [
           {
            "colorbar": {
             "outlinewidth": 0,
             "ticks": ""
            },
            "colorscale": [
             [
              0,
              "#0d0887"
             ],
             [
              0.1111111111111111,
              "#46039f"
             ],
             [
              0.2222222222222222,
              "#7201a8"
             ],
             [
              0.3333333333333333,
              "#9c179e"
             ],
             [
              0.4444444444444444,
              "#bd3786"
             ],
             [
              0.5555555555555556,
              "#d8576b"
             ],
             [
              0.6666666666666666,
              "#ed7953"
             ],
             [
              0.7777777777777778,
              "#fb9f3a"
             ],
             [
              0.8888888888888888,
              "#fdca26"
             ],
             [
              1,
              "#f0f921"
             ]
            ],
            "type": "histogram2dcontour"
           }
          ],
          "mesh3d": [
           {
            "colorbar": {
             "outlinewidth": 0,
             "ticks": ""
            },
            "type": "mesh3d"
           }
          ],
          "parcoords": [
           {
            "line": {
             "colorbar": {
              "outlinewidth": 0,
              "ticks": ""
             }
            },
            "type": "parcoords"
           }
          ],
          "pie": [
           {
            "automargin": true,
            "type": "pie"
           }
          ],
          "scatter": [
           {
            "marker": {
             "colorbar": {
              "outlinewidth": 0,
              "ticks": ""
             }
            },
            "type": "scatter"
           }
          ],
          "scatter3d": [
           {
            "line": {
             "colorbar": {
              "outlinewidth": 0,
              "ticks": ""
             }
            },
            "marker": {
             "colorbar": {
              "outlinewidth": 0,
              "ticks": ""
             }
            },
            "type": "scatter3d"
           }
          ],
          "scattercarpet": [
           {
            "marker": {
             "colorbar": {
              "outlinewidth": 0,
              "ticks": ""
             }
            },
            "type": "scattercarpet"
           }
          ],
          "scattergeo": [
           {
            "marker": {
             "colorbar": {
              "outlinewidth": 0,
              "ticks": ""
             }
            },
            "type": "scattergeo"
           }
          ],
          "scattergl": [
           {
            "marker": {
             "colorbar": {
              "outlinewidth": 0,
              "ticks": ""
             }
            },
            "type": "scattergl"
           }
          ],
          "scattermapbox": [
           {
            "marker": {
             "colorbar": {
              "outlinewidth": 0,
              "ticks": ""
             }
            },
            "type": "scattermapbox"
           }
          ],
          "scatterpolar": [
           {
            "marker": {
             "colorbar": {
              "outlinewidth": 0,
              "ticks": ""
             }
            },
            "type": "scatterpolar"
           }
          ],
          "scatterpolargl": [
           {
            "marker": {
             "colorbar": {
              "outlinewidth": 0,
              "ticks": ""
             }
            },
            "type": "scatterpolargl"
           }
          ],
          "scatterternary": [
           {
            "marker": {
             "colorbar": {
              "outlinewidth": 0,
              "ticks": ""
             }
            },
            "type": "scatterternary"
           }
          ],
          "surface": [
           {
            "colorbar": {
             "outlinewidth": 0,
             "ticks": ""
            },
            "colorscale": [
             [
              0,
              "#0d0887"
             ],
             [
              0.1111111111111111,
              "#46039f"
             ],
             [
              0.2222222222222222,
              "#7201a8"
             ],
             [
              0.3333333333333333,
              "#9c179e"
             ],
             [
              0.4444444444444444,
              "#bd3786"
             ],
             [
              0.5555555555555556,
              "#d8576b"
             ],
             [
              0.6666666666666666,
              "#ed7953"
             ],
             [
              0.7777777777777778,
              "#fb9f3a"
             ],
             [
              0.8888888888888888,
              "#fdca26"
             ],
             [
              1,
              "#f0f921"
             ]
            ],
            "type": "surface"
           }
          ],
          "table": [
           {
            "cells": {
             "fill": {
              "color": "#EBF0F8"
             },
             "line": {
              "color": "white"
             }
            },
            "header": {
             "fill": {
              "color": "#C8D4E3"
             },
             "line": {
              "color": "white"
             }
            },
            "type": "table"
           }
          ]
         },
         "layout": {
          "annotationdefaults": {
           "arrowcolor": "#2a3f5f",
           "arrowhead": 0,
           "arrowwidth": 1
          },
          "coloraxis": {
           "colorbar": {
            "outlinewidth": 0,
            "ticks": ""
           }
          },
          "colorscale": {
           "diverging": [
            [
             0,
             "#8e0152"
            ],
            [
             0.1,
             "#c51b7d"
            ],
            [
             0.2,
             "#de77ae"
            ],
            [
             0.3,
             "#f1b6da"
            ],
            [
             0.4,
             "#fde0ef"
            ],
            [
             0.5,
             "#f7f7f7"
            ],
            [
             0.6,
             "#e6f5d0"
            ],
            [
             0.7,
             "#b8e186"
            ],
            [
             0.8,
             "#7fbc41"
            ],
            [
             0.9,
             "#4d9221"
            ],
            [
             1,
             "#276419"
            ]
           ],
           "sequential": [
            [
             0,
             "#0d0887"
            ],
            [
             0.1111111111111111,
             "#46039f"
            ],
            [
             0.2222222222222222,
             "#7201a8"
            ],
            [
             0.3333333333333333,
             "#9c179e"
            ],
            [
             0.4444444444444444,
             "#bd3786"
            ],
            [
             0.5555555555555556,
             "#d8576b"
            ],
            [
             0.6666666666666666,
             "#ed7953"
            ],
            [
             0.7777777777777778,
             "#fb9f3a"
            ],
            [
             0.8888888888888888,
             "#fdca26"
            ],
            [
             1,
             "#f0f921"
            ]
           ],
           "sequentialminus": [
            [
             0,
             "#0d0887"
            ],
            [
             0.1111111111111111,
             "#46039f"
            ],
            [
             0.2222222222222222,
             "#7201a8"
            ],
            [
             0.3333333333333333,
             "#9c179e"
            ],
            [
             0.4444444444444444,
             "#bd3786"
            ],
            [
             0.5555555555555556,
             "#d8576b"
            ],
            [
             0.6666666666666666,
             "#ed7953"
            ],
            [
             0.7777777777777778,
             "#fb9f3a"
            ],
            [
             0.8888888888888888,
             "#fdca26"
            ],
            [
             1,
             "#f0f921"
            ]
           ]
          },
          "colorway": [
           "#636efa",
           "#EF553B",
           "#00cc96",
           "#ab63fa",
           "#FFA15A",
           "#19d3f3",
           "#FF6692",
           "#B6E880",
           "#FF97FF",
           "#FECB52"
          ],
          "font": {
           "color": "#2a3f5f"
          },
          "geo": {
           "bgcolor": "white",
           "lakecolor": "white",
           "landcolor": "#E5ECF6",
           "showlakes": true,
           "showland": true,
           "subunitcolor": "white"
          },
          "hoverlabel": {
           "align": "left"
          },
          "hovermode": "closest",
          "mapbox": {
           "style": "light"
          },
          "paper_bgcolor": "white",
          "plot_bgcolor": "#E5ECF6",
          "polar": {
           "angularaxis": {
            "gridcolor": "white",
            "linecolor": "white",
            "ticks": ""
           },
           "bgcolor": "#E5ECF6",
           "radialaxis": {
            "gridcolor": "white",
            "linecolor": "white",
            "ticks": ""
           }
          },
          "scene": {
           "xaxis": {
            "backgroundcolor": "#E5ECF6",
            "gridcolor": "white",
            "gridwidth": 2,
            "linecolor": "white",
            "showbackground": true,
            "ticks": "",
            "zerolinecolor": "white"
           },
           "yaxis": {
            "backgroundcolor": "#E5ECF6",
            "gridcolor": "white",
            "gridwidth": 2,
            "linecolor": "white",
            "showbackground": true,
            "ticks": "",
            "zerolinecolor": "white"
           },
           "zaxis": {
            "backgroundcolor": "#E5ECF6",
            "gridcolor": "white",
            "gridwidth": 2,
            "linecolor": "white",
            "showbackground": true,
            "ticks": "",
            "zerolinecolor": "white"
           }
          },
          "shapedefaults": {
           "line": {
            "color": "#2a3f5f"
           }
          },
          "ternary": {
           "aaxis": {
            "gridcolor": "white",
            "linecolor": "white",
            "ticks": ""
           },
           "baxis": {
            "gridcolor": "white",
            "linecolor": "white",
            "ticks": ""
           },
           "bgcolor": "#E5ECF6",
           "caxis": {
            "gridcolor": "white",
            "linecolor": "white",
            "ticks": ""
           }
          },
          "title": {
           "x": 0.05
          },
          "xaxis": {
           "automargin": true,
           "gridcolor": "white",
           "linecolor": "white",
           "ticks": "",
           "title": {
            "standoff": 15
           },
           "zerolinecolor": "white",
           "zerolinewidth": 2
          },
          "yaxis": {
           "automargin": true,
           "gridcolor": "white",
           "linecolor": "white",
           "ticks": "",
           "title": {
            "standoff": 15
           },
           "zerolinecolor": "white",
           "zerolinewidth": 2
          }
         }
        }
       }
      },
      "text/html": [
       "<div>\n",
       "        \n",
       "        \n",
       "            <div id=\"64376779-0884-4eef-b891-7ddf51b4bc0e\" class=\"plotly-graph-div\" style=\"height:525px; width:100%;\"></div>\n",
       "            <script type=\"text/javascript\">\n",
       "                require([\"plotly\"], function(Plotly) {\n",
       "                    window.PLOTLYENV=window.PLOTLYENV || {};\n",
       "                    \n",
       "                if (document.getElementById(\"64376779-0884-4eef-b891-7ddf51b4bc0e\")) {\n",
       "                    Plotly.newPlot(\n",
       "                        '64376779-0884-4eef-b891-7ddf51b4bc0e',\n",
       "                        [{\"mode\": \"lines\", \"name\": \"recEffnVertices_vs_pu\", \"type\": \"scatter\", \"x\": [0.5, 1.5, 2.5, 3.5, 4.5, 5.5, 6.5, 7.5, 8.5, 9.5, 10.5, 11.5, 12.5, 13.5, 14.5, 15.5, 16.5, 17.5, 18.5, 19.5, 20.5, 21.5, 22.5, 23.5, 24.5, 25.5, 26.5, 27.5, 28.5, 29.5, 30.5, 31.5, 32.5, 33.5, 34.5, 35.5, 36.5, 37.5, 38.5, 39.5, 40.5, 41.5, 42.5, 43.5, 44.5, 45.5, 46.5, 47.5, 48.5, 49.5, 50.5, 51.5, 52.5, 53.5, 54.5, 55.5, 56.5, 57.5, 58.5, 59.5, 60.5, 61.5, 62.5, 63.5, 64.5, 65.5, 66.5, 67.5, 68.5, 69.5, 70.5, 71.5, 72.5, 73.5, 74.5, 75.5, 76.5, 77.5, 78.5, 79.5, 80.5, 81.5, 82.5, 83.5, 84.5, 85.5, 86.5, 87.5, 88.5, 89.5, 90.5, 91.5, 92.5, 93.5, 94.5, 95.5, 96.5, 97.5, 98.5, 99.5], \"y\": [null, 1.5274578387507303, 1.133010720904966, 1.0350916119953142, 0.9906600199401795, 0.9633228214442534, 0.944305724239325, 0.9293485346489817, 0.9178485543258188, 0.9075455326232282, 0.8990723024873077, 0.8921619992902564, 0.8855343792376525, 0.8804838295140118, 0.8757373252554128, 0.871175015114833, 0.8669007944148286, 0.863516483206846, 0.85997320698536, 0.8562802441006894, 0.8524253440197189, 0.8491031423988282, 0.846148668017452, 0.8424489960344238, 0.8387540512988841, 0.8355474201670597, 0.8328953797933714, 0.8293330428548886, 0.8264435496646624, 0.8236343400781969, 0.8207632955269053, 0.8179903127694843, 0.815391940999142, 0.8125493924478194, 0.809961770679947, 0.8078317950081151, 0.8056229493198892, 0.8034195005098961, 0.8015852428258367, 0.7996649379753081, 0.7978712135142267, 0.7964984376797614, 0.795373564789918, 0.7943358630266005, 0.7934033955120889, 0.7927556923690032, 0.7920725004618704, 0.7922602383139227, 0.7925230558979618, 0.7931166118519751, 0.7939546085003139, 0.7948698345219046, 0.7961268811828479, 0.7984225594920983, 0.8003565430037491, 0.8027130673813497, 0.8055225747533827, 0.8081599213233526, 0.8110862397699898, 0.8142206290860392, 0.8177342011801606, 0.8212701679951555, 0.825458416479424, 0.8286908208023664, 0.8331052982647854, 0.8368466831532821, 0.841078850084052, 0.8449284179599892, 0.8491573945808812, 0.853231379287116, 0.8575056493378632, 0.8614251494924835, 0.8652178379437999, 0.8694669530132616, 0.8735066525518073, 0.8771327283407212, 0.8810624946690571, 0.8852434666358395, 0.8882134917852591, 0.8913776946385403, 0.8954123011971935, 0.898941815466637, 0.9015427479126468, 0.9046545072368518, 0.9063816519425045, 0.9080833431322826, 0.9100499638942718, 0.9118346279961581, 0.9130962886515701, 0.9144432558652242, 0.9141441079758351, 0.9118619777312316, 0.9134208720603832, 0.9119622378508523, 0.9117215456739437, 0.9086884460977498, 0.9033564814814813, 0.9060338843612619, 0.8988561936402466, 0.9039992873100064]}],\n",
       "                        {\"template\": {\"data\": {\"bar\": [{\"error_x\": {\"color\": \"#2a3f5f\"}, \"error_y\": {\"color\": \"#2a3f5f\"}, \"marker\": {\"line\": {\"color\": \"#E5ECF6\", \"width\": 0.5}}, \"type\": \"bar\"}], \"barpolar\": [{\"marker\": {\"line\": {\"color\": \"#E5ECF6\", \"width\": 0.5}}, \"type\": \"barpolar\"}], \"carpet\": [{\"aaxis\": {\"endlinecolor\": \"#2a3f5f\", \"gridcolor\": \"white\", \"linecolor\": \"white\", \"minorgridcolor\": \"white\", \"startlinecolor\": \"#2a3f5f\"}, \"baxis\": {\"endlinecolor\": \"#2a3f5f\", \"gridcolor\": \"white\", \"linecolor\": \"white\", \"minorgridcolor\": \"white\", \"startlinecolor\": \"#2a3f5f\"}, \"type\": \"carpet\"}], \"choropleth\": [{\"colorbar\": {\"outlinewidth\": 0, \"ticks\": \"\"}, \"type\": \"choropleth\"}], \"contour\": [{\"colorbar\": {\"outlinewidth\": 0, \"ticks\": \"\"}, \"colorscale\": [[0.0, \"#0d0887\"], [0.1111111111111111, \"#46039f\"], [0.2222222222222222, \"#7201a8\"], [0.3333333333333333, \"#9c179e\"], [0.4444444444444444, \"#bd3786\"], [0.5555555555555556, \"#d8576b\"], [0.6666666666666666, \"#ed7953\"], [0.7777777777777778, \"#fb9f3a\"], [0.8888888888888888, \"#fdca26\"], [1.0, \"#f0f921\"]], \"type\": \"contour\"}], \"contourcarpet\": [{\"colorbar\": {\"outlinewidth\": 0, \"ticks\": \"\"}, \"type\": \"contourcarpet\"}], \"heatmap\": [{\"colorbar\": {\"outlinewidth\": 0, \"ticks\": \"\"}, \"colorscale\": [[0.0, \"#0d0887\"], [0.1111111111111111, \"#46039f\"], [0.2222222222222222, \"#7201a8\"], [0.3333333333333333, \"#9c179e\"], [0.4444444444444444, \"#bd3786\"], [0.5555555555555556, \"#d8576b\"], [0.6666666666666666, \"#ed7953\"], [0.7777777777777778, \"#fb9f3a\"], [0.8888888888888888, \"#fdca26\"], [1.0, \"#f0f921\"]], \"type\": \"heatmap\"}], \"heatmapgl\": [{\"colorbar\": {\"outlinewidth\": 0, \"ticks\": \"\"}, \"colorscale\": [[0.0, \"#0d0887\"], [0.1111111111111111, \"#46039f\"], [0.2222222222222222, \"#7201a8\"], [0.3333333333333333, \"#9c179e\"], [0.4444444444444444, \"#bd3786\"], [0.5555555555555556, \"#d8576b\"], [0.6666666666666666, \"#ed7953\"], [0.7777777777777778, \"#fb9f3a\"], [0.8888888888888888, \"#fdca26\"], [1.0, \"#f0f921\"]], \"type\": \"heatmapgl\"}], \"histogram\": [{\"marker\": {\"colorbar\": {\"outlinewidth\": 0, \"ticks\": \"\"}}, \"type\": \"histogram\"}], \"histogram2d\": [{\"colorbar\": {\"outlinewidth\": 0, \"ticks\": \"\"}, \"colorscale\": [[0.0, \"#0d0887\"], [0.1111111111111111, \"#46039f\"], [0.2222222222222222, \"#7201a8\"], [0.3333333333333333, \"#9c179e\"], [0.4444444444444444, \"#bd3786\"], [0.5555555555555556, \"#d8576b\"], [0.6666666666666666, \"#ed7953\"], [0.7777777777777778, \"#fb9f3a\"], [0.8888888888888888, \"#fdca26\"], [1.0, \"#f0f921\"]], \"type\": \"histogram2d\"}], \"histogram2dcontour\": [{\"colorbar\": {\"outlinewidth\": 0, \"ticks\": \"\"}, \"colorscale\": [[0.0, \"#0d0887\"], [0.1111111111111111, \"#46039f\"], [0.2222222222222222, \"#7201a8\"], [0.3333333333333333, \"#9c179e\"], [0.4444444444444444, \"#bd3786\"], [0.5555555555555556, \"#d8576b\"], [0.6666666666666666, \"#ed7953\"], [0.7777777777777778, \"#fb9f3a\"], [0.8888888888888888, \"#fdca26\"], [1.0, \"#f0f921\"]], \"type\": \"histogram2dcontour\"}], \"mesh3d\": [{\"colorbar\": {\"outlinewidth\": 0, \"ticks\": \"\"}, \"type\": \"mesh3d\"}], \"parcoords\": [{\"line\": {\"colorbar\": {\"outlinewidth\": 0, \"ticks\": \"\"}}, \"type\": \"parcoords\"}], \"pie\": [{\"automargin\": true, \"type\": \"pie\"}], \"scatter\": [{\"marker\": {\"colorbar\": {\"outlinewidth\": 0, \"ticks\": \"\"}}, \"type\": \"scatter\"}], \"scatter3d\": [{\"line\": {\"colorbar\": {\"outlinewidth\": 0, \"ticks\": \"\"}}, \"marker\": {\"colorbar\": {\"outlinewidth\": 0, \"ticks\": \"\"}}, \"type\": \"scatter3d\"}], \"scattercarpet\": [{\"marker\": {\"colorbar\": {\"outlinewidth\": 0, \"ticks\": \"\"}}, \"type\": \"scattercarpet\"}], \"scattergeo\": [{\"marker\": {\"colorbar\": {\"outlinewidth\": 0, \"ticks\": \"\"}}, \"type\": \"scattergeo\"}], \"scattergl\": [{\"marker\": {\"colorbar\": {\"outlinewidth\": 0, \"ticks\": \"\"}}, \"type\": \"scattergl\"}], \"scattermapbox\": [{\"marker\": {\"colorbar\": {\"outlinewidth\": 0, \"ticks\": \"\"}}, \"type\": \"scattermapbox\"}], \"scatterpolar\": [{\"marker\": {\"colorbar\": {\"outlinewidth\": 0, \"ticks\": \"\"}}, \"type\": \"scatterpolar\"}], \"scatterpolargl\": [{\"marker\": {\"colorbar\": {\"outlinewidth\": 0, \"ticks\": \"\"}}, \"type\": \"scatterpolargl\"}], \"scatterternary\": [{\"marker\": {\"colorbar\": {\"outlinewidth\": 0, \"ticks\": \"\"}}, \"type\": \"scatterternary\"}], \"surface\": [{\"colorbar\": {\"outlinewidth\": 0, \"ticks\": \"\"}, \"colorscale\": [[0.0, \"#0d0887\"], [0.1111111111111111, \"#46039f\"], [0.2222222222222222, \"#7201a8\"], [0.3333333333333333, \"#9c179e\"], [0.4444444444444444, \"#bd3786\"], [0.5555555555555556, \"#d8576b\"], [0.6666666666666666, \"#ed7953\"], [0.7777777777777778, \"#fb9f3a\"], [0.8888888888888888, \"#fdca26\"], [1.0, \"#f0f921\"]], \"type\": \"surface\"}], \"table\": [{\"cells\": {\"fill\": {\"color\": \"#EBF0F8\"}, \"line\": {\"color\": \"white\"}}, \"header\": {\"fill\": {\"color\": \"#C8D4E3\"}, \"line\": {\"color\": \"white\"}}, \"type\": \"table\"}]}, \"layout\": {\"annotationdefaults\": {\"arrowcolor\": \"#2a3f5f\", \"arrowhead\": 0, \"arrowwidth\": 1}, \"coloraxis\": {\"colorbar\": {\"outlinewidth\": 0, \"ticks\": \"\"}}, \"colorscale\": {\"diverging\": [[0, \"#8e0152\"], [0.1, \"#c51b7d\"], [0.2, \"#de77ae\"], [0.3, \"#f1b6da\"], [0.4, \"#fde0ef\"], [0.5, \"#f7f7f7\"], [0.6, \"#e6f5d0\"], [0.7, \"#b8e186\"], [0.8, \"#7fbc41\"], [0.9, \"#4d9221\"], [1, \"#276419\"]], \"sequential\": [[0.0, \"#0d0887\"], [0.1111111111111111, \"#46039f\"], [0.2222222222222222, \"#7201a8\"], [0.3333333333333333, \"#9c179e\"], [0.4444444444444444, \"#bd3786\"], [0.5555555555555556, \"#d8576b\"], [0.6666666666666666, \"#ed7953\"], [0.7777777777777778, \"#fb9f3a\"], [0.8888888888888888, \"#fdca26\"], [1.0, \"#f0f921\"]], \"sequentialminus\": [[0.0, \"#0d0887\"], [0.1111111111111111, \"#46039f\"], [0.2222222222222222, \"#7201a8\"], [0.3333333333333333, \"#9c179e\"], [0.4444444444444444, \"#bd3786\"], [0.5555555555555556, \"#d8576b\"], [0.6666666666666666, \"#ed7953\"], [0.7777777777777778, \"#fb9f3a\"], [0.8888888888888888, \"#fdca26\"], [1.0, \"#f0f921\"]]}, \"colorway\": [\"#636efa\", \"#EF553B\", \"#00cc96\", \"#ab63fa\", \"#FFA15A\", \"#19d3f3\", \"#FF6692\", \"#B6E880\", \"#FF97FF\", \"#FECB52\"], \"font\": {\"color\": \"#2a3f5f\"}, \"geo\": {\"bgcolor\": \"white\", \"lakecolor\": \"white\", \"landcolor\": \"#E5ECF6\", \"showlakes\": true, \"showland\": true, \"subunitcolor\": \"white\"}, \"hoverlabel\": {\"align\": \"left\"}, \"hovermode\": \"closest\", \"mapbox\": {\"style\": \"light\"}, \"paper_bgcolor\": \"white\", \"plot_bgcolor\": \"#E5ECF6\", \"polar\": {\"angularaxis\": {\"gridcolor\": \"white\", \"linecolor\": \"white\", \"ticks\": \"\"}, \"bgcolor\": \"#E5ECF6\", \"radialaxis\": {\"gridcolor\": \"white\", \"linecolor\": \"white\", \"ticks\": \"\"}}, \"scene\": {\"xaxis\": {\"backgroundcolor\": \"#E5ECF6\", \"gridcolor\": \"white\", \"gridwidth\": 2, \"linecolor\": \"white\", \"showbackground\": true, \"ticks\": \"\", \"zerolinecolor\": \"white\"}, \"yaxis\": {\"backgroundcolor\": \"#E5ECF6\", \"gridcolor\": \"white\", \"gridwidth\": 2, \"linecolor\": \"white\", \"showbackground\": true, \"ticks\": \"\", \"zerolinecolor\": \"white\"}, \"zaxis\": {\"backgroundcolor\": \"#E5ECF6\", \"gridcolor\": \"white\", \"gridwidth\": 2, \"linecolor\": \"white\", \"showbackground\": true, \"ticks\": \"\", \"zerolinecolor\": \"white\"}}, \"shapedefaults\": {\"line\": {\"color\": \"#2a3f5f\"}}, \"ternary\": {\"aaxis\": {\"gridcolor\": \"white\", \"linecolor\": \"white\", \"ticks\": \"\"}, \"baxis\": {\"gridcolor\": \"white\", \"linecolor\": \"white\", \"ticks\": \"\"}, \"bgcolor\": \"#E5ECF6\", \"caxis\": {\"gridcolor\": \"white\", \"linecolor\": \"white\", \"ticks\": \"\"}}, \"title\": {\"x\": 0.05}, \"xaxis\": {\"automargin\": true, \"gridcolor\": \"white\", \"linecolor\": \"white\", \"ticks\": \"\", \"title\": {\"standoff\": 15}, \"zerolinecolor\": \"white\", \"zerolinewidth\": 2}, \"yaxis\": {\"automargin\": true, \"gridcolor\": \"white\", \"linecolor\": \"white\", \"ticks\": \"\", \"title\": {\"standoff\": 15}, \"zerolinecolor\": \"white\", \"zerolinewidth\": 2}}}},\n",
       "                        {\"responsive\": true}\n",
       "                    ).then(function(){\n",
       "                            \n",
       "var gd = document.getElementById('64376779-0884-4eef-b891-7ddf51b4bc0e');\n",
       "var x = new MutationObserver(function (mutations, observer) {{\n",
       "        var display = window.getComputedStyle(gd).display;\n",
       "        if (!display || display === 'none') {{\n",
       "            console.log([gd, 'removed!']);\n",
       "            Plotly.purge(gd);\n",
       "            observer.disconnect();\n",
       "        }}\n",
       "}});\n",
       "\n",
       "// Listen for the removal of the full notebook cells\n",
       "var notebookContainer = gd.closest('#notebook-container');\n",
       "if (notebookContainer) {{\n",
       "    x.observe(notebookContainer, {childList: true});\n",
       "}}\n",
       "\n",
       "// Listen for the clearing of the current output cell\n",
       "var outputEl = gd.closest('.output');\n",
       "if (outputEl) {{\n",
       "    x.observe(outputEl, {childList: true});\n",
       "}}\n",
       "\n",
       "                        })\n",
       "                };\n",
       "                });\n",
       "            </script>\n",
       "        </div>"
      ]
     },
     "metadata": {},
     "output_type": "display_data"
    }
   ],
   "source": [
    "aa.plot()"
   ]
  },
  {
   "cell_type": "code",
   "execution_count": 6,
   "metadata": {},
   "outputs": [],
   "source": [
    "import sys\n",
    "sys.path.append('../nTuplizer')\n",
    "from allInfo import GetAllRuns, GetAllEras\n",
    "allRuns = sorted( list(set( GetAllRuns(2017 , 'D') ) ) )[0]\n",
    "rinfo = RunInfo( , vname , var_bins , lumiName ,lumiQ , nbins_perq=lnbins_per_q , sub_runs=allRuns , \n",
    "                    nthreads=nthreads , xsecs = xsec )"
   ]
  },
  {
   "cell_type": "code",
   "execution_count": 7,
   "metadata": {},
   "outputs": [
    {
     "data": {
      "text/plain": [
       "302031"
      ]
     },
     "execution_count": 7,
     "metadata": {},
     "output_type": "execute_result"
    }
   ],
   "source": [
    "allRuns"
   ]
  },
  {
   "cell_type": "code",
   "execution_count": null,
   "metadata": {},
   "outputs": [],
   "source": []
  }
 ],
 "metadata": {
  "kernelspec": {
   "display_name": "Python 3",
   "language": "python",
   "name": "python3"
  },
  "language_info": {
   "codemirror_mode": {
    "name": "ipython",
    "version": 3
   },
   "file_extension": ".py",
   "mimetype": "text/x-python",
   "name": "python",
   "nbconvert_exporter": "python",
   "pygments_lexer": "ipython3",
   "version": "3.7.6"
  }
 },
 "nbformat": 4,
 "nbformat_minor": 5
}
